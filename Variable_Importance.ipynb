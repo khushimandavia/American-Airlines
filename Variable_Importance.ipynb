{
 "cells": [
  {
   "cell_type": "code",
   "execution_count": 1,
   "id": "e368d725-552a-49e5-b202-8bd7ffd9d51d",
   "metadata": {},
   "outputs": [],
   "source": [
    "import pandas as pd\n",
    "import numpy as np\n",
    "from sklearn.ensemble import RandomForestClassifier, RandomForestRegressor\n",
    "from sklearn.preprocessing import LabelEncoder, StandardScaler\n",
    "from sklearn.model_selection import train_test_split\n",
    "import airportsdata\n",
    "import matplotlib.pyplot as plt\n",
    "import matplotlib.colors as mcolors\n",
    "import seaborn as sns"
   ]
  },
  {
   "cell_type": "markdown",
   "id": "ac2cd157-e258-4483-9f47-748d7a965b8f",
   "metadata": {},
   "source": [
    "## Prepare Dataset"
   ]
  },
  {
   "cell_type": "code",
   "execution_count": 2,
   "id": "481ae814-0b1e-44ed-8ce7-9d5e985d5ba1",
   "metadata": {},
   "outputs": [],
   "source": [
    "file_path = \"bookingsData.csv\""
   ]
  },
  {
   "cell_type": "code",
   "execution_count": 3,
   "id": "f24e101d-dc49-4302-8477-8dc9f811a57e",
   "metadata": {},
   "outputs": [
    {
     "name": "stderr",
     "output_type": "stream",
     "text": [
      "/var/folders/jj/3_60j1tx1ys_rfzl_xtzxnnm0000gp/T/ipykernel_6889/2618208116.py:1: DtypeWarning: Columns (31) have mixed types. Specify dtype option on import or set low_memory=False.\n",
      "  df = pd.read_csv(file_path)\n"
     ]
    }
   ],
   "source": [
    "df = pd.read_csv(file_path)"
   ]
  },
  {
   "cell_type": "code",
   "execution_count": 4,
   "id": "7e5e0521-9a07-4e85-bd80-e67bf17a8eb7",
   "metadata": {},
   "outputs": [
    {
     "data": {
      "text/html": [
       "<div>\n",
       "<style scoped>\n",
       "    .dataframe tbody tr th:only-of-type {\n",
       "        vertical-align: middle;\n",
       "    }\n",
       "\n",
       "    .dataframe tbody tr th {\n",
       "        vertical-align: top;\n",
       "    }\n",
       "\n",
       "    .dataframe thead th {\n",
       "        text-align: right;\n",
       "    }\n",
       "</style>\n",
       "<table border=\"1\" class=\"dataframe\">\n",
       "  <thead>\n",
       "    <tr style=\"text-align: right;\">\n",
       "      <th></th>\n",
       "      <th>Unnamed: 0</th>\n",
       "      <th>PNR</th>\n",
       "      <th>PNR_CREATE_DT</th>\n",
       "      <th>NUM_IN_PARTY</th>\n",
       "      <th>CHANNEL</th>\n",
       "      <th>ORIGIN</th>\n",
       "      <th>DEST</th>\n",
       "      <th>OD</th>\n",
       "      <th>NUM_SEGMENTS</th>\n",
       "      <th>PNR_DEPARTURE_DATE</th>\n",
       "      <th>...</th>\n",
       "      <th>departure_month_name</th>\n",
       "      <th>TRAVEL_DISTANCE</th>\n",
       "      <th>Holiday_Departure</th>\n",
       "      <th>Holiday_Return</th>\n",
       "      <th>Cumulative_Booking_Count</th>\n",
       "      <th>LENGTH_OF_STAY</th>\n",
       "      <th>WEEKEND_DEPARTURE</th>\n",
       "      <th>WEEKEND_ARRIVAL</th>\n",
       "      <th>Distance_Bin</th>\n",
       "      <th>BOOKING_WINDOW</th>\n",
       "    </tr>\n",
       "  </thead>\n",
       "  <tbody>\n",
       "    <tr>\n",
       "      <th>0</th>\n",
       "      <td>80521</td>\n",
       "      <td>A196441</td>\n",
       "      <td>2022-06-28</td>\n",
       "      <td>2</td>\n",
       "      <td>DIRECT</td>\n",
       "      <td>ABE</td>\n",
       "      <td>BOS</td>\n",
       "      <td>ABE-BOS</td>\n",
       "      <td>2</td>\n",
       "      <td>2022-07-01</td>\n",
       "      <td>...</td>\n",
       "      <td>July</td>\n",
       "      <td>258.0</td>\n",
       "      <td>NaN</td>\n",
       "      <td>Independence Day</td>\n",
       "      <td>0</td>\n",
       "      <td>3 days</td>\n",
       "      <td>True</td>\n",
       "      <td>0.0</td>\n",
       "      <td>0-500</td>\n",
       "      <td>1-7 days</td>\n",
       "    </tr>\n",
       "    <tr>\n",
       "      <th>1</th>\n",
       "      <td>84806</td>\n",
       "      <td>A206961</td>\n",
       "      <td>2022-06-28</td>\n",
       "      <td>2</td>\n",
       "      <td>DIRECT</td>\n",
       "      <td>ABE</td>\n",
       "      <td>BOS</td>\n",
       "      <td>ABE-BOS</td>\n",
       "      <td>1</td>\n",
       "      <td>2022-07-01</td>\n",
       "      <td>...</td>\n",
       "      <td>July</td>\n",
       "      <td>258.0</td>\n",
       "      <td>NaN</td>\n",
       "      <td>NaN</td>\n",
       "      <td>1</td>\n",
       "      <td>NaN</td>\n",
       "      <td>True</td>\n",
       "      <td>NaN</td>\n",
       "      <td>0-500</td>\n",
       "      <td>1-7 days</td>\n",
       "    </tr>\n",
       "    <tr>\n",
       "      <th>2</th>\n",
       "      <td>280773</td>\n",
       "      <td>A688913</td>\n",
       "      <td>2022-06-30</td>\n",
       "      <td>1</td>\n",
       "      <td>DIRECT</td>\n",
       "      <td>ABE</td>\n",
       "      <td>BOS</td>\n",
       "      <td>ABE-BOS</td>\n",
       "      <td>1</td>\n",
       "      <td>2022-07-02</td>\n",
       "      <td>...</td>\n",
       "      <td>July</td>\n",
       "      <td>258.0</td>\n",
       "      <td>Independence Day</td>\n",
       "      <td>NaN</td>\n",
       "      <td>0</td>\n",
       "      <td>NaN</td>\n",
       "      <td>True</td>\n",
       "      <td>NaN</td>\n",
       "      <td>0-500</td>\n",
       "      <td>1-7 days</td>\n",
       "    </tr>\n",
       "    <tr>\n",
       "      <th>3</th>\n",
       "      <td>16303</td>\n",
       "      <td>A40023</td>\n",
       "      <td>2022-07-01</td>\n",
       "      <td>2</td>\n",
       "      <td>DIRECT</td>\n",
       "      <td>ABE</td>\n",
       "      <td>BOS</td>\n",
       "      <td>ABE-BOS</td>\n",
       "      <td>1</td>\n",
       "      <td>2022-07-02</td>\n",
       "      <td>...</td>\n",
       "      <td>July</td>\n",
       "      <td>258.0</td>\n",
       "      <td>Independence Day</td>\n",
       "      <td>NaN</td>\n",
       "      <td>1</td>\n",
       "      <td>NaN</td>\n",
       "      <td>True</td>\n",
       "      <td>NaN</td>\n",
       "      <td>0-500</td>\n",
       "      <td>1-7 days</td>\n",
       "    </tr>\n",
       "    <tr>\n",
       "      <th>4</th>\n",
       "      <td>251373</td>\n",
       "      <td>A616680</td>\n",
       "      <td>2022-07-01</td>\n",
       "      <td>2</td>\n",
       "      <td>DIRECT</td>\n",
       "      <td>ABE</td>\n",
       "      <td>BOS</td>\n",
       "      <td>ABE-BOS</td>\n",
       "      <td>1</td>\n",
       "      <td>2022-07-03</td>\n",
       "      <td>...</td>\n",
       "      <td>July</td>\n",
       "      <td>258.0</td>\n",
       "      <td>Independence Day</td>\n",
       "      <td>NaN</td>\n",
       "      <td>0</td>\n",
       "      <td>NaN</td>\n",
       "      <td>True</td>\n",
       "      <td>NaN</td>\n",
       "      <td>0-500</td>\n",
       "      <td>1-7 days</td>\n",
       "    </tr>\n",
       "  </tbody>\n",
       "</table>\n",
       "<p>5 rows × 33 columns</p>\n",
       "</div>"
      ],
      "text/plain": [
       "   Unnamed: 0      PNR PNR_CREATE_DT  NUM_IN_PARTY CHANNEL ORIGIN DEST  \\\n",
       "0       80521  A196441    2022-06-28             2  DIRECT    ABE  BOS   \n",
       "1       84806  A206961    2022-06-28             2  DIRECT    ABE  BOS   \n",
       "2      280773  A688913    2022-06-30             1  DIRECT    ABE  BOS   \n",
       "3       16303   A40023    2022-07-01             2  DIRECT    ABE  BOS   \n",
       "4      251373  A616680    2022-07-01             2  DIRECT    ABE  BOS   \n",
       "\n",
       "        OD  NUM_SEGMENTS PNR_DEPARTURE_DATE  ... departure_month_name  \\\n",
       "0  ABE-BOS             2         2022-07-01  ...                 July   \n",
       "1  ABE-BOS             1         2022-07-01  ...                 July   \n",
       "2  ABE-BOS             1         2022-07-02  ...                 July   \n",
       "3  ABE-BOS             1         2022-07-02  ...                 July   \n",
       "4  ABE-BOS             1         2022-07-03  ...                 July   \n",
       "\n",
       "   TRAVEL_DISTANCE  Holiday_Departure    Holiday_Return  \\\n",
       "0            258.0                NaN  Independence Day   \n",
       "1            258.0                NaN               NaN   \n",
       "2            258.0   Independence Day               NaN   \n",
       "3            258.0   Independence Day               NaN   \n",
       "4            258.0   Independence Day               NaN   \n",
       "\n",
       "   Cumulative_Booking_Count  LENGTH_OF_STAY  WEEKEND_DEPARTURE  \\\n",
       "0                         0          3 days               True   \n",
       "1                         1             NaN               True   \n",
       "2                         0             NaN               True   \n",
       "3                         1             NaN               True   \n",
       "4                         0             NaN               True   \n",
       "\n",
       "   WEEKEND_ARRIVAL  Distance_Bin  BOOKING_WINDOW  \n",
       "0              0.0         0-500        1-7 days  \n",
       "1              NaN         0-500        1-7 days  \n",
       "2              NaN         0-500        1-7 days  \n",
       "3              NaN         0-500        1-7 days  \n",
       "4              NaN         0-500        1-7 days  \n",
       "\n",
       "[5 rows x 33 columns]"
      ]
     },
     "execution_count": 4,
     "metadata": {},
     "output_type": "execute_result"
    }
   ],
   "source": [
    "df.head()"
   ]
  },
  {
   "cell_type": "code",
   "execution_count": 5,
   "id": "40e78f77-86b2-4dfd-8139-9b3a47899bd5",
   "metadata": {},
   "outputs": [],
   "source": [
    "df = df.drop(columns = {'Unnamed: 0'})"
   ]
  },
  {
   "cell_type": "code",
   "execution_count": 6,
   "id": "c1cbff52-5a60-4be8-979a-64196cd9e4fa",
   "metadata": {},
   "outputs": [
    {
     "data": {
      "text/plain": [
       "(2249589, 32)"
      ]
     },
     "execution_count": 6,
     "metadata": {},
     "output_type": "execute_result"
    }
   ],
   "source": [
    "df.shape"
   ]
  },
  {
   "cell_type": "markdown",
   "id": "e12736a3-0ee4-4bbc-bffd-10bd15704b83",
   "metadata": {},
   "source": [
    "### Correcting Travel_Distance"
   ]
  },
  {
   "cell_type": "code",
   "execution_count": 7,
   "id": "5fdce44c-7209-4554-a4ea-2a9e158bd419",
   "metadata": {},
   "outputs": [],
   "source": [
    "airports = airportsdata.load('IATA')\n",
    "# Assume `airport_dict` is the dictionary containing airport data\n",
    "airport_df = pd.DataFrame.from_dict(airports, orient='index')\n",
    "airport_df = airport_df.reset_index().rename(columns={'index': 'airport_code'})\n",
    "\n",
    "# Keep only necessary columns for merging (e.g., 'airport_code', 'lat', 'lon')\n",
    "airport_df = airport_df[['iata', 'lat', 'lon']].rename(columns={'iata': 'airport_code'})"
   ]
  },
  {
   "cell_type": "code",
   "execution_count": 8,
   "id": "514a83a6-c5b3-46dc-b406-6fa1f724e7b9",
   "metadata": {},
   "outputs": [],
   "source": [
    "# Merge origin coordinates\n",
    "df = df.merge(airport_df.rename(columns={'airport_code': 'ORIGIN', 'lat': 'Origin_Lat', 'lon': 'Origin_Lon'}),\n",
    "              on='ORIGIN', how='left')\n",
    "\n",
    "# Merge destination coordinates\n",
    "df = df.merge(airport_df.rename(columns={'airport_code': 'DEST', 'lat': 'Dest_Lat', 'lon': 'Dest_Lon'}),\n",
    "              on='DEST', how='left')"
   ]
  },
  {
   "cell_type": "code",
   "execution_count": 9,
   "id": "03e09dc3-cb2b-486a-8f42-fc661d89a644",
   "metadata": {},
   "outputs": [],
   "source": [
    "# Convert latitude and longitude from degrees to radians\n",
    "df['Origin_Lat_rad'] = np.radians(df['Origin_Lat'])\n",
    "df['Origin_Lon_rad'] = np.radians(df['Origin_Lon'])\n",
    "df['Dest_Lat_rad'] = np.radians(df['Dest_Lat'])\n",
    "df['Dest_Lon_rad'] = np.radians(df['Dest_Lon'])\n",
    "\n",
    "# Haversine formula for distance calculation\n",
    "def haversine_distance(lat1, lon1, lat2, lon2):\n",
    "    R = 3958.8  # Radius of Earth in miles\n",
    "    dlat = lat2 - lat1\n",
    "    dlon = lon2 - lon1\n",
    "    a = np.sin(dlat / 2)**2 + np.cos(lat1) * np.cos(lat2) * np.sin(dlon / 2)**2\n",
    "    c = 2 * np.arctan2(np.sqrt(a), np.sqrt(1 - a))\n",
    "    return R * c\n",
    "\n",
    "# Calculate distance using the haversine formula\n",
    "df['Calculated_Travel_Distance'] = haversine_distance(df['Origin_Lat_rad'], df['Origin_Lon_rad'], \n",
    "                                                      df['Dest_Lat_rad'], df['Dest_Lon_rad'])\n",
    "df['Calculated_Travel_Distance'] = df['Calculated_Travel_Distance'].round(2)"
   ]
  },
  {
   "cell_type": "code",
   "execution_count": 10,
   "id": "f17d4ce7-51d1-42e4-aa96-88d0656773b3",
   "metadata": {},
   "outputs": [
    {
     "data": {
      "text/plain": [
       "Index(['PNR', 'PNR_CREATE_DT', 'NUM_IN_PARTY', 'CHANNEL', 'ORIGIN', 'DEST',\n",
       "       'OD', 'NUM_SEGMENTS', 'PNR_DEPARTURE_DATE', 'PNR_RETURN_DATE',\n",
       "       'BUSINESS_PROBABILITY', 'BLEISURE_PROBABILITY', 'VFR_PROBABILITY',\n",
       "       'VACATION_PROBABILITY', 'PERSONAL_PROBABILITY', 'REVENUE',\n",
       "       'ADVANCED_PURCHASE', 'ROUNDTRIP', 'NONSTOP', 'REVENUE_PER_PERSON',\n",
       "       'TRAVEL_TYPE', 'departure_month', 'departure_month_name',\n",
       "       'TRAVEL_DISTANCE', 'Holiday_Departure', 'Holiday_Return',\n",
       "       'Cumulative_Booking_Count', 'LENGTH_OF_STAY', 'WEEKEND_DEPARTURE',\n",
       "       'WEEKEND_ARRIVAL', 'Distance_Bin', 'BOOKING_WINDOW', 'Origin_Lat',\n",
       "       'Origin_Lon', 'Dest_Lat', 'Dest_Lon', 'Origin_Lat_rad',\n",
       "       'Origin_Lon_rad', 'Dest_Lat_rad', 'Dest_Lon_rad',\n",
       "       'Calculated_Travel_Distance'],\n",
       "      dtype='object')"
      ]
     },
     "execution_count": 10,
     "metadata": {},
     "output_type": "execute_result"
    }
   ],
   "source": [
    "df.columns"
   ]
  },
  {
   "cell_type": "code",
   "execution_count": 11,
   "id": "8dbcb8a1-3312-4404-8bc7-70b930819177",
   "metadata": {},
   "outputs": [],
   "source": [
    "df = df.drop(columns = ['Origin_Lat', 'Origin_Lon',\n",
    "       'Dest_Lat', 'Dest_Lon', 'Origin_Lat_rad', 'Origin_Lon_rad',\n",
    "       'Dest_Lat_rad', 'Dest_Lon_rad','TRAVEL_DISTANCE'])"
   ]
  },
  {
   "cell_type": "code",
   "execution_count": 12,
   "id": "628a465e-79fd-4bdc-93cc-03dec7aa4380",
   "metadata": {},
   "outputs": [],
   "source": [
    "df.rename(columns = {'Calculated_Travel_Distance':'TRAVEL_DISTANCE'}, inplace = True)"
   ]
  },
  {
   "cell_type": "code",
   "execution_count": 13,
   "id": "17286076-c279-49ac-b21e-81f4bf4874f0",
   "metadata": {},
   "outputs": [
    {
     "data": {
      "text/html": [
       "<div>\n",
       "<style scoped>\n",
       "    .dataframe tbody tr th:only-of-type {\n",
       "        vertical-align: middle;\n",
       "    }\n",
       "\n",
       "    .dataframe tbody tr th {\n",
       "        vertical-align: top;\n",
       "    }\n",
       "\n",
       "    .dataframe thead th {\n",
       "        text-align: right;\n",
       "    }\n",
       "</style>\n",
       "<table border=\"1\" class=\"dataframe\">\n",
       "  <thead>\n",
       "    <tr style=\"text-align: right;\">\n",
       "      <th></th>\n",
       "      <th>PNR</th>\n",
       "      <th>PNR_CREATE_DT</th>\n",
       "      <th>NUM_IN_PARTY</th>\n",
       "      <th>CHANNEL</th>\n",
       "      <th>ORIGIN</th>\n",
       "      <th>DEST</th>\n",
       "      <th>OD</th>\n",
       "      <th>NUM_SEGMENTS</th>\n",
       "      <th>PNR_DEPARTURE_DATE</th>\n",
       "      <th>PNR_RETURN_DATE</th>\n",
       "      <th>...</th>\n",
       "      <th>departure_month_name</th>\n",
       "      <th>Holiday_Departure</th>\n",
       "      <th>Holiday_Return</th>\n",
       "      <th>Cumulative_Booking_Count</th>\n",
       "      <th>LENGTH_OF_STAY</th>\n",
       "      <th>WEEKEND_DEPARTURE</th>\n",
       "      <th>WEEKEND_ARRIVAL</th>\n",
       "      <th>Distance_Bin</th>\n",
       "      <th>BOOKING_WINDOW</th>\n",
       "      <th>TRAVEL_DISTANCE</th>\n",
       "    </tr>\n",
       "  </thead>\n",
       "  <tbody>\n",
       "    <tr>\n",
       "      <th>0</th>\n",
       "      <td>A196441</td>\n",
       "      <td>2022-06-28</td>\n",
       "      <td>2</td>\n",
       "      <td>DIRECT</td>\n",
       "      <td>ABE</td>\n",
       "      <td>BOS</td>\n",
       "      <td>ABE-BOS</td>\n",
       "      <td>2</td>\n",
       "      <td>2022-07-01</td>\n",
       "      <td>2022-07-04</td>\n",
       "      <td>...</td>\n",
       "      <td>July</td>\n",
       "      <td>NaN</td>\n",
       "      <td>Independence Day</td>\n",
       "      <td>0</td>\n",
       "      <td>3 days</td>\n",
       "      <td>True</td>\n",
       "      <td>0.0</td>\n",
       "      <td>0-500</td>\n",
       "      <td>1-7 days</td>\n",
       "      <td>258.03</td>\n",
       "    </tr>\n",
       "    <tr>\n",
       "      <th>1</th>\n",
       "      <td>A206961</td>\n",
       "      <td>2022-06-28</td>\n",
       "      <td>2</td>\n",
       "      <td>DIRECT</td>\n",
       "      <td>ABE</td>\n",
       "      <td>BOS</td>\n",
       "      <td>ABE-BOS</td>\n",
       "      <td>1</td>\n",
       "      <td>2022-07-01</td>\n",
       "      <td>NaN</td>\n",
       "      <td>...</td>\n",
       "      <td>July</td>\n",
       "      <td>NaN</td>\n",
       "      <td>NaN</td>\n",
       "      <td>1</td>\n",
       "      <td>NaN</td>\n",
       "      <td>True</td>\n",
       "      <td>NaN</td>\n",
       "      <td>0-500</td>\n",
       "      <td>1-7 days</td>\n",
       "      <td>258.03</td>\n",
       "    </tr>\n",
       "    <tr>\n",
       "      <th>2</th>\n",
       "      <td>A688913</td>\n",
       "      <td>2022-06-30</td>\n",
       "      <td>1</td>\n",
       "      <td>DIRECT</td>\n",
       "      <td>ABE</td>\n",
       "      <td>BOS</td>\n",
       "      <td>ABE-BOS</td>\n",
       "      <td>1</td>\n",
       "      <td>2022-07-02</td>\n",
       "      <td>NaN</td>\n",
       "      <td>...</td>\n",
       "      <td>July</td>\n",
       "      <td>Independence Day</td>\n",
       "      <td>NaN</td>\n",
       "      <td>0</td>\n",
       "      <td>NaN</td>\n",
       "      <td>True</td>\n",
       "      <td>NaN</td>\n",
       "      <td>0-500</td>\n",
       "      <td>1-7 days</td>\n",
       "      <td>258.03</td>\n",
       "    </tr>\n",
       "    <tr>\n",
       "      <th>3</th>\n",
       "      <td>A40023</td>\n",
       "      <td>2022-07-01</td>\n",
       "      <td>2</td>\n",
       "      <td>DIRECT</td>\n",
       "      <td>ABE</td>\n",
       "      <td>BOS</td>\n",
       "      <td>ABE-BOS</td>\n",
       "      <td>1</td>\n",
       "      <td>2022-07-02</td>\n",
       "      <td>NaN</td>\n",
       "      <td>...</td>\n",
       "      <td>July</td>\n",
       "      <td>Independence Day</td>\n",
       "      <td>NaN</td>\n",
       "      <td>1</td>\n",
       "      <td>NaN</td>\n",
       "      <td>True</td>\n",
       "      <td>NaN</td>\n",
       "      <td>0-500</td>\n",
       "      <td>1-7 days</td>\n",
       "      <td>258.03</td>\n",
       "    </tr>\n",
       "    <tr>\n",
       "      <th>4</th>\n",
       "      <td>A616680</td>\n",
       "      <td>2022-07-01</td>\n",
       "      <td>2</td>\n",
       "      <td>DIRECT</td>\n",
       "      <td>ABE</td>\n",
       "      <td>BOS</td>\n",
       "      <td>ABE-BOS</td>\n",
       "      <td>1</td>\n",
       "      <td>2022-07-03</td>\n",
       "      <td>NaN</td>\n",
       "      <td>...</td>\n",
       "      <td>July</td>\n",
       "      <td>Independence Day</td>\n",
       "      <td>NaN</td>\n",
       "      <td>0</td>\n",
       "      <td>NaN</td>\n",
       "      <td>True</td>\n",
       "      <td>NaN</td>\n",
       "      <td>0-500</td>\n",
       "      <td>1-7 days</td>\n",
       "      <td>258.03</td>\n",
       "    </tr>\n",
       "  </tbody>\n",
       "</table>\n",
       "<p>5 rows × 32 columns</p>\n",
       "</div>"
      ],
      "text/plain": [
       "       PNR PNR_CREATE_DT  NUM_IN_PARTY CHANNEL ORIGIN DEST       OD  \\\n",
       "0  A196441    2022-06-28             2  DIRECT    ABE  BOS  ABE-BOS   \n",
       "1  A206961    2022-06-28             2  DIRECT    ABE  BOS  ABE-BOS   \n",
       "2  A688913    2022-06-30             1  DIRECT    ABE  BOS  ABE-BOS   \n",
       "3   A40023    2022-07-01             2  DIRECT    ABE  BOS  ABE-BOS   \n",
       "4  A616680    2022-07-01             2  DIRECT    ABE  BOS  ABE-BOS   \n",
       "\n",
       "   NUM_SEGMENTS PNR_DEPARTURE_DATE PNR_RETURN_DATE  ...  departure_month_name  \\\n",
       "0             2         2022-07-01      2022-07-04  ...                  July   \n",
       "1             1         2022-07-01             NaN  ...                  July   \n",
       "2             1         2022-07-02             NaN  ...                  July   \n",
       "3             1         2022-07-02             NaN  ...                  July   \n",
       "4             1         2022-07-03             NaN  ...                  July   \n",
       "\n",
       "   Holiday_Departure    Holiday_Return  Cumulative_Booking_Count  \\\n",
       "0                NaN  Independence Day                         0   \n",
       "1                NaN               NaN                         1   \n",
       "2   Independence Day               NaN                         0   \n",
       "3   Independence Day               NaN                         1   \n",
       "4   Independence Day               NaN                         0   \n",
       "\n",
       "   LENGTH_OF_STAY  WEEKEND_DEPARTURE  WEEKEND_ARRIVAL  Distance_Bin  \\\n",
       "0          3 days               True              0.0         0-500   \n",
       "1             NaN               True              NaN         0-500   \n",
       "2             NaN               True              NaN         0-500   \n",
       "3             NaN               True              NaN         0-500   \n",
       "4             NaN               True              NaN         0-500   \n",
       "\n",
       "   BOOKING_WINDOW  TRAVEL_DISTANCE  \n",
       "0        1-7 days           258.03  \n",
       "1        1-7 days           258.03  \n",
       "2        1-7 days           258.03  \n",
       "3        1-7 days           258.03  \n",
       "4        1-7 days           258.03  \n",
       "\n",
       "[5 rows x 32 columns]"
      ]
     },
     "execution_count": 13,
     "metadata": {},
     "output_type": "execute_result"
    }
   ],
   "source": [
    "df.head()"
   ]
  },
  {
   "cell_type": "markdown",
   "id": "98eb3c1e-1843-4a6d-809b-26bcc3c9f77a",
   "metadata": {},
   "source": [
    "### Filter Irrelevant Data"
   ]
  },
  {
   "cell_type": "code",
   "execution_count": 14,
   "id": "6961e0d1-782e-49aa-b700-377ec57c3314",
   "metadata": {},
   "outputs": [
    {
     "data": {
      "text/plain": [
       "(2249589, 32)"
      ]
     },
     "execution_count": 14,
     "metadata": {},
     "output_type": "execute_result"
    }
   ],
   "source": [
    "df.shape"
   ]
  },
  {
   "cell_type": "code",
   "execution_count": 15,
   "id": "3016b4cb-8fc0-4ff2-a182-80be6fdf0ac2",
   "metadata": {},
   "outputs": [],
   "source": [
    "df = df[df['ORIGIN'] !=df['DEST']]"
   ]
  },
  {
   "cell_type": "code",
   "execution_count": 16,
   "id": "ebf06e77-724a-4d63-a34f-cf0036e8c9f8",
   "metadata": {},
   "outputs": [
    {
     "data": {
      "text/plain": [
       "(2249557, 32)"
      ]
     },
     "execution_count": 16,
     "metadata": {},
     "output_type": "execute_result"
    }
   ],
   "source": [
    "df.shape"
   ]
  },
  {
   "cell_type": "code",
   "execution_count": 17,
   "id": "dee56ceb-0d61-494a-a32e-f97db7c086e8",
   "metadata": {},
   "outputs": [
    {
     "data": {
      "image/png": "[encoded data removed]",
      "text/plain": [
       "<Figure size 1000x600 with 1 Axes>"
      ]
     },
     "metadata": {},
     "output_type": "display_data"
    }
   ],
   "source": [
    "# Plotting the histogram\n",
    "plt.figure(figsize=(10, 6))\n",
    "plt.hist(df['TRAVEL_DISTANCE'].dropna(), bins=30, edgecolor='k', alpha=0.7)\n",
    "plt.title('Distribution of Travel Distance')\n",
    "plt.xlabel('Travel Distance')\n",
    "plt.ylabel('Frequency')\n",
    "plt.grid(axis='y', alpha=0.75)\n",
    "plt.show()"
   ]
  },
  {
   "cell_type": "code",
   "execution_count": 18,
   "id": "90da2aeb-26d2-41aa-840b-e1edf8f3f1dd",
   "metadata": {},
   "outputs": [
    {
     "data": {
      "text/plain": [
       "Distance_Bin\n",
       "500-1000     708414\n",
       "1000-1500    616656\n",
       "0-500        330333\n",
       "2000-3000    278914\n",
       "1500-2000    226152\n",
       "Name: count, dtype: int64"
      ]
     },
     "execution_count": 18,
     "metadata": {},
     "output_type": "execute_result"
    }
   ],
   "source": [
    "df.Distance_Bin.value_counts()"
   ]
  },
  {
   "cell_type": "code",
   "execution_count": 19,
   "id": "44cc9989-d8c0-4d79-ba06-641fdbdfede1",
   "metadata": {},
   "outputs": [],
   "source": [
    "distance_bins = [0,250,500, 750, 1000, 1250, 1500, 2000, 3000, float('inf')]\n",
    "distance_labels = ['0-250','250-500','500-750','750-1000','1000-1250', '1250-1500', '1500-2000', '2000-3000', '3000+']\n",
    "df['Distance_Bin'] = pd.cut(df['TRAVEL_DISTANCE'], bins=distance_bins, labels=distance_labels)"
   ]
  },
  {
   "cell_type": "markdown",
   "id": "6ea82183-faec-440d-bf35-520b39c16f0d",
   "metadata": {},
   "source": [
    "### Capturing Willingness to Pay by adding Interaction features and more columns"
   ]
  },
  {
   "cell_type": "markdown",
   "id": "b1783992-cd2b-4240-a0df-a37ff6eee44f",
   "metadata": {},
   "source": [
    "#### 1. Revenue & Price Columns"
   ]
  },
  {
   "cell_type": "code",
   "execution_count": 20,
   "id": "5435d711-688d-4869-b2b3-fefeaa335b09",
   "metadata": {},
   "outputs": [],
   "source": [
    "df['RPM'] = df['REVENUE_PER_PERSON'] / df['TRAVEL_DISTANCE']\n",
    "#df['Inverse_AP'] = 1 / df['ADVANCED_PURCHASE'] # have some infinity value"
   ]
  },
  {
   "cell_type": "code",
   "execution_count": 21,
   "id": "48cebfb0-3528-45d6-ad04-fb5ea57b98df",
   "metadata": {},
   "outputs": [],
   "source": [
    "df['RPM_CumulativeBookings_Interaction'] = df['RPM'] * (df['Cumulative_Booking_Count']+1)# Weekend Interaction: Captures WTP for trips with either weekend departure or arrival"
   ]
  },
  {
   "cell_type": "markdown",
   "id": "221b90be-f257-482f-868b-88516b2dd1a0",
   "metadata": {},
   "source": [
    "#### 2. Revenue AP Ratio\n",
    "##### Higher values of Revenue_AP_Ratio imply higher WTP due to more urgency and willingness to pay despite minimal advance purchase time"
   ]
  },
  {
   "cell_type": "code",
   "execution_count": 22,
   "id": "1a6b4b7e-0ead-48af-9baa-9884aae9c051",
   "metadata": {},
   "outputs": [],
   "source": [
    "df['Revenue_AP_Ratio'] = df['RPM'] / (df['ADVANCED_PURCHASE'] + 1)"
   ]
  },
  {
   "cell_type": "markdown",
   "id": "2c4ab302-0740-4ed9-a053-93ef221da8aa",
   "metadata": {},
   "source": [
    "#### 3. Distance_Adjusted_Revenue\n",
    "##### how much a customer pays relative to the typical price within their distance bin. This approach identifies customers willing to pay a premium over the norm for their travel distance, which is a strong WTP indicator."
   ]
  },
  {
   "cell_type": "code",
   "execution_count": 23,
   "id": "5440b873-7601-4a66-8404-a8654856e81d",
   "metadata": {},
   "outputs": [
    {
     "name": "stderr",
     "output_type": "stream",
     "text": [
      "/var/folders/jj/3_60j1tx1ys_rfzl_xtzxnnm0000gp/T/ipykernel_6889/3843558282.py:2: FutureWarning: The default of observed=False is deprecated and will be changed to True in a future version of pandas. Pass observed=False to retain current behavior or observed=True to adopt the future default and silence this warning.\n",
      "  avg_revenue_per_bin = df.groupby('Distance_Bin')['REVENUE_PER_PERSON'].transform('mean')\n"
     ]
    }
   ],
   "source": [
    "# Calculate average revenue per distance bin\n",
    "avg_revenue_per_bin = df.groupby('Distance_Bin')['REVENUE_PER_PERSON'].transform('mean')\n",
    "df['Distance_Adjusted_Revenue'] = df['REVENUE_PER_PERSON'] / avg_revenue_per_bin"
   ]
  },
  {
   "cell_type": "markdown",
   "id": "8f632177-dd68-4a8c-a856-709932b3b6a9",
   "metadata": {},
   "source": [
    "#### 4. Cumulative_Advance_Purchase_Ratio\n",
    "##### a higher cumulative count with a shorter AP signals a higher WTP, as demand is driving up booking rates."
   ]
  },
  {
   "cell_type": "code",
   "execution_count": 24,
   "id": "3174520b-9db8-488c-bea9-70a97f9c25e7",
   "metadata": {},
   "outputs": [],
   "source": [
    "df['Cumulative_Advance_Purchase_Ratio'] = df['Cumulative_Booking_Count'] + 1/ (df['ADVANCED_PURCHASE'] + 1)"
   ]
  },
  {
   "cell_type": "markdown",
   "id": "8b05d771-159f-4813-aedb-0920a72f659e",
   "metadata": {},
   "source": [
    "#### 5. Channel RPM Ratio\n",
    "##### reflect the willingness to pay per mile relative to the average for each booking channel"
   ]
  },
  {
   "cell_type": "code",
   "execution_count": 25,
   "id": "fed4c889-20e4-473b-ae88-e95b224e3f7d",
   "metadata": {},
   "outputs": [],
   "source": [
    "avg_rpm_per_channel = df.groupby('CHANNEL')['RPM'].transform('mean')\n",
    "\n",
    "# Calculate Channel-Based RPM Premium (Channel_RPM_Ratio)\n",
    "df['Channel_RPM_Ratio'] = df['RPM'] / avg_rpm_per_channel"
   ]
  },
  {
   "cell_type": "code",
   "execution_count": 26,
   "id": "bd28a0fe-0a55-4647-9d7c-53d2e5197697",
   "metadata": {},
   "outputs": [
    {
     "data": {
      "text/plain": [
       "0"
      ]
     },
     "execution_count": 26,
     "metadata": {},
     "output_type": "execute_result"
    }
   ],
   "source": [
    "df.Channel_RPM_Ratio.isna().sum()"
   ]
  },
  {
   "cell_type": "code",
   "execution_count": 27,
   "id": "21b0204c-7b7c-41b2-a247-d3c03f6cc0a7",
   "metadata": {},
   "outputs": [
    {
     "data": {
      "text/plain": [
       "0"
      ]
     },
     "execution_count": 27,
     "metadata": {},
     "output_type": "execute_result"
    }
   ],
   "source": [
    "df.Distance_Adjusted_Revenue.isna().sum()"
   ]
  },
  {
   "cell_type": "code",
   "execution_count": 28,
   "id": "6991667c-1d3d-4d1f-aacf-82b13102ae4b",
   "metadata": {},
   "outputs": [
    {
     "data": {
      "text/html": [
       "<div>\n",
       "<style scoped>\n",
       "    .dataframe tbody tr th:only-of-type {\n",
       "        vertical-align: middle;\n",
       "    }\n",
       "\n",
       "    .dataframe tbody tr th {\n",
       "        vertical-align: top;\n",
       "    }\n",
       "\n",
       "    .dataframe thead th {\n",
       "        text-align: right;\n",
       "    }\n",
       "</style>\n",
       "<table border=\"1\" class=\"dataframe\">\n",
       "  <thead>\n",
       "    <tr style=\"text-align: right;\">\n",
       "      <th></th>\n",
       "      <th>PNR</th>\n",
       "      <th>PNR_CREATE_DT</th>\n",
       "      <th>NUM_IN_PARTY</th>\n",
       "      <th>CHANNEL</th>\n",
       "      <th>ORIGIN</th>\n",
       "      <th>DEST</th>\n",
       "      <th>OD</th>\n",
       "      <th>NUM_SEGMENTS</th>\n",
       "      <th>PNR_DEPARTURE_DATE</th>\n",
       "      <th>PNR_RETURN_DATE</th>\n",
       "      <th>...</th>\n",
       "      <th>WEEKEND_ARRIVAL</th>\n",
       "      <th>Distance_Bin</th>\n",
       "      <th>BOOKING_WINDOW</th>\n",
       "      <th>TRAVEL_DISTANCE</th>\n",
       "      <th>RPM</th>\n",
       "      <th>RPM_CumulativeBookings_Interaction</th>\n",
       "      <th>Revenue_AP_Ratio</th>\n",
       "      <th>Distance_Adjusted_Revenue</th>\n",
       "      <th>Cumulative_Advance_Purchase_Ratio</th>\n",
       "      <th>Channel_RPM_Ratio</th>\n",
       "    </tr>\n",
       "  </thead>\n",
       "  <tbody>\n",
       "    <tr>\n",
       "      <th>0</th>\n",
       "      <td>A196441</td>\n",
       "      <td>2022-06-28</td>\n",
       "      <td>2</td>\n",
       "      <td>DIRECT</td>\n",
       "      <td>ABE</td>\n",
       "      <td>BOS</td>\n",
       "      <td>ABE-BOS</td>\n",
       "      <td>2</td>\n",
       "      <td>2022-07-01</td>\n",
       "      <td>2022-07-04</td>\n",
       "      <td>...</td>\n",
       "      <td>0.0</td>\n",
       "      <td>250-500</td>\n",
       "      <td>1-7 days</td>\n",
       "      <td>258.03</td>\n",
       "      <td>0.367729</td>\n",
       "      <td>0.367729</td>\n",
       "      <td>0.091932</td>\n",
       "      <td>0.603647</td>\n",
       "      <td>0.250000</td>\n",
       "      <td>1.622503</td>\n",
       "    </tr>\n",
       "    <tr>\n",
       "      <th>1</th>\n",
       "      <td>A206961</td>\n",
       "      <td>2022-06-28</td>\n",
       "      <td>2</td>\n",
       "      <td>DIRECT</td>\n",
       "      <td>ABE</td>\n",
       "      <td>BOS</td>\n",
       "      <td>ABE-BOS</td>\n",
       "      <td>1</td>\n",
       "      <td>2022-07-01</td>\n",
       "      <td>NaN</td>\n",
       "      <td>...</td>\n",
       "      <td>NaN</td>\n",
       "      <td>250-500</td>\n",
       "      <td>1-7 days</td>\n",
       "      <td>258.03</td>\n",
       "      <td>0.277603</td>\n",
       "      <td>0.555207</td>\n",
       "      <td>0.069401</td>\n",
       "      <td>0.455701</td>\n",
       "      <td>1.250000</td>\n",
       "      <td>1.224850</td>\n",
       "    </tr>\n",
       "    <tr>\n",
       "      <th>2</th>\n",
       "      <td>A688913</td>\n",
       "      <td>2022-06-30</td>\n",
       "      <td>1</td>\n",
       "      <td>DIRECT</td>\n",
       "      <td>ABE</td>\n",
       "      <td>BOS</td>\n",
       "      <td>ABE-BOS</td>\n",
       "      <td>1</td>\n",
       "      <td>2022-07-02</td>\n",
       "      <td>NaN</td>\n",
       "      <td>...</td>\n",
       "      <td>NaN</td>\n",
       "      <td>250-500</td>\n",
       "      <td>1-7 days</td>\n",
       "      <td>258.03</td>\n",
       "      <td>0.418750</td>\n",
       "      <td>0.418750</td>\n",
       "      <td>0.139583</td>\n",
       "      <td>0.687401</td>\n",
       "      <td>0.333333</td>\n",
       "      <td>1.847620</td>\n",
       "    </tr>\n",
       "    <tr>\n",
       "      <th>3</th>\n",
       "      <td>A40023</td>\n",
       "      <td>2022-07-01</td>\n",
       "      <td>2</td>\n",
       "      <td>DIRECT</td>\n",
       "      <td>ABE</td>\n",
       "      <td>BOS</td>\n",
       "      <td>ABE-BOS</td>\n",
       "      <td>1</td>\n",
       "      <td>2022-07-02</td>\n",
       "      <td>NaN</td>\n",
       "      <td>...</td>\n",
       "      <td>NaN</td>\n",
       "      <td>250-500</td>\n",
       "      <td>1-7 days</td>\n",
       "      <td>258.03</td>\n",
       "      <td>0.241542</td>\n",
       "      <td>0.483083</td>\n",
       "      <td>0.120771</td>\n",
       "      <td>0.396504</td>\n",
       "      <td>1.500000</td>\n",
       "      <td>1.065738</td>\n",
       "    </tr>\n",
       "    <tr>\n",
       "      <th>4</th>\n",
       "      <td>A616680</td>\n",
       "      <td>2022-07-01</td>\n",
       "      <td>2</td>\n",
       "      <td>DIRECT</td>\n",
       "      <td>ABE</td>\n",
       "      <td>BOS</td>\n",
       "      <td>ABE-BOS</td>\n",
       "      <td>1</td>\n",
       "      <td>2022-07-03</td>\n",
       "      <td>NaN</td>\n",
       "      <td>...</td>\n",
       "      <td>NaN</td>\n",
       "      <td>250-500</td>\n",
       "      <td>1-7 days</td>\n",
       "      <td>258.03</td>\n",
       "      <td>0.241542</td>\n",
       "      <td>0.241542</td>\n",
       "      <td>0.080514</td>\n",
       "      <td>0.396504</td>\n",
       "      <td>0.333333</td>\n",
       "      <td>1.065738</td>\n",
       "    </tr>\n",
       "  </tbody>\n",
       "</table>\n",
       "<p>5 rows × 38 columns</p>\n",
       "</div>"
      ],
      "text/plain": [
       "       PNR PNR_CREATE_DT  NUM_IN_PARTY CHANNEL ORIGIN DEST       OD  \\\n",
       "0  A196441    2022-06-28             2  DIRECT    ABE  BOS  ABE-BOS   \n",
       "1  A206961    2022-06-28             2  DIRECT    ABE  BOS  ABE-BOS   \n",
       "2  A688913    2022-06-30             1  DIRECT    ABE  BOS  ABE-BOS   \n",
       "3   A40023    2022-07-01             2  DIRECT    ABE  BOS  ABE-BOS   \n",
       "4  A616680    2022-07-01             2  DIRECT    ABE  BOS  ABE-BOS   \n",
       "\n",
       "   NUM_SEGMENTS PNR_DEPARTURE_DATE PNR_RETURN_DATE  ...  WEEKEND_ARRIVAL  \\\n",
       "0             2         2022-07-01      2022-07-04  ...              0.0   \n",
       "1             1         2022-07-01             NaN  ...              NaN   \n",
       "2             1         2022-07-02             NaN  ...              NaN   \n",
       "3             1         2022-07-02             NaN  ...              NaN   \n",
       "4             1         2022-07-03             NaN  ...              NaN   \n",
       "\n",
       "   Distance_Bin  BOOKING_WINDOW  TRAVEL_DISTANCE       RPM  \\\n",
       "0       250-500        1-7 days           258.03  0.367729   \n",
       "1       250-500        1-7 days           258.03  0.277603   \n",
       "2       250-500        1-7 days           258.03  0.418750   \n",
       "3       250-500        1-7 days           258.03  0.241542   \n",
       "4       250-500        1-7 days           258.03  0.241542   \n",
       "\n",
       "   RPM_CumulativeBookings_Interaction  Revenue_AP_Ratio  \\\n",
       "0                            0.367729          0.091932   \n",
       "1                            0.555207          0.069401   \n",
       "2                            0.418750          0.139583   \n",
       "3                            0.483083          0.120771   \n",
       "4                            0.241542          0.080514   \n",
       "\n",
       "   Distance_Adjusted_Revenue  Cumulative_Advance_Purchase_Ratio  \\\n",
       "0                   0.603647                           0.250000   \n",
       "1                   0.455701                           1.250000   \n",
       "2                   0.687401                           0.333333   \n",
       "3                   0.396504                           1.500000   \n",
       "4                   0.396504                           0.333333   \n",
       "\n",
       "   Channel_RPM_Ratio  \n",
       "0           1.622503  \n",
       "1           1.224850  \n",
       "2           1.847620  \n",
       "3           1.065738  \n",
       "4           1.065738  \n",
       "\n",
       "[5 rows x 38 columns]"
      ]
     },
     "execution_count": 28,
     "metadata": {},
     "output_type": "execute_result"
    }
   ],
   "source": [
    "df.head()"
   ]
  },
  {
   "cell_type": "code",
   "execution_count": 29,
   "id": "08a37c5b-8adb-48e9-85e9-7cc69a86399f",
   "metadata": {
    "scrolled": true
   },
   "outputs": [
    {
     "name": "stdout",
     "output_type": "stream",
     "text": [
      "<class 'pandas.core.frame.DataFrame'>\n",
      "Index: 2249557 entries, 0 to 2249588\n",
      "Data columns (total 38 columns):\n",
      " #   Column                              Dtype   \n",
      "---  ------                              -----   \n",
      " 0   PNR                                 object  \n",
      " 1   PNR_CREATE_DT                       object  \n",
      " 2   NUM_IN_PARTY                        int64   \n",
      " 3   CHANNEL                             object  \n",
      " 4   ORIGIN                              object  \n",
      " 5   DEST                                object  \n",
      " 6   OD                                  object  \n",
      " 7   NUM_SEGMENTS                        int64   \n",
      " 8   PNR_DEPARTURE_DATE                  object  \n",
      " 9   PNR_RETURN_DATE                     object  \n",
      " 10  BUSINESS_PROBABILITY                float64 \n",
      " 11  BLEISURE_PROBABILITY                float64 \n",
      " 12  VFR_PROBABILITY                     float64 \n",
      " 13  VACATION_PROBABILITY                float64 \n",
      " 14  PERSONAL_PROBABILITY                float64 \n",
      " 15  REVENUE                             float64 \n",
      " 16  ADVANCED_PURCHASE                   int64   \n",
      " 17  ROUNDTRIP                           bool    \n",
      " 18  NONSTOP                             bool    \n",
      " 19  REVENUE_PER_PERSON                  float64 \n",
      " 20  TRAVEL_TYPE                         object  \n",
      " 21  departure_month                     int64   \n",
      " 22  departure_month_name                object  \n",
      " 23  Holiday_Departure                   object  \n",
      " 24  Holiday_Return                      object  \n",
      " 25  Cumulative_Booking_Count            int64   \n",
      " 26  LENGTH_OF_STAY                      object  \n",
      " 27  WEEKEND_DEPARTURE                   bool    \n",
      " 28  WEEKEND_ARRIVAL                     float64 \n",
      " 29  Distance_Bin                        category\n",
      " 30  BOOKING_WINDOW                      object  \n",
      " 31  TRAVEL_DISTANCE                     float64 \n",
      " 32  RPM                                 float64 \n",
      " 33  RPM_CumulativeBookings_Interaction  float64 \n",
      " 34  Revenue_AP_Ratio                    float64 \n",
      " 35  Distance_Adjusted_Revenue           float64 \n",
      " 36  Cumulative_Advance_Purchase_Ratio   float64 \n",
      " 37  Channel_RPM_Ratio                   float64 \n",
      "dtypes: bool(3), category(1), float64(15), int64(5), object(14)\n",
      "memory usage: 609.3+ MB\n"
     ]
    }
   ],
   "source": [
    "df.info()"
   ]
  },
  {
   "cell_type": "markdown",
   "id": "f9f7dc9b-4128-4c01-b125-2c39aeae333d",
   "metadata": {},
   "source": [
    "##### overview values of some columns"
   ]
  },
  {
   "cell_type": "code",
   "execution_count": 30,
   "id": "fae74342-a95b-404f-b88a-46afa322b459",
   "metadata": {
    "scrolled": true
   },
   "outputs": [
    {
     "data": {
      "text/plain": [
       "BOOKING_WINDOW\n",
       "21+ days      1291734\n",
       "1-7 days       428082\n",
       "8-14 days      249040\n",
       "15-21 days     212277\n",
       "Name: count, dtype: int64"
      ]
     },
     "execution_count": 30,
     "metadata": {},
     "output_type": "execute_result"
    }
   ],
   "source": [
    "df['BOOKING_WINDOW'].value_counts()"
   ]
  },
  {
   "cell_type": "code",
   "execution_count": 31,
   "id": "1a204aed-9d78-4b4e-bda5-3321938f6d1d",
   "metadata": {},
   "outputs": [
    {
     "data": {
      "text/plain": [
       "Distance_Bin\n",
       "750-1000     447133\n",
       "1000-1250    393545\n",
       "500-750      331761\n",
       "2000-3000    278829\n",
       "250-500      271846\n",
       "1250-1500    251169\n",
       "1500-2000    228789\n",
       "0-250         46485\n",
       "3000+             0\n",
       "Name: count, dtype: int64"
      ]
     },
     "execution_count": 31,
     "metadata": {},
     "output_type": "execute_result"
    }
   ],
   "source": [
    "df['Distance_Bin'].value_counts()"
   ]
  },
  {
   "cell_type": "code",
   "execution_count": 32,
   "id": "0165cfbc-439b-4502-9951-d8f729c64b23",
   "metadata": {},
   "outputs": [
    {
     "data": {
      "text/plain": [
       "array([ 0., nan,  1.])"
      ]
     },
     "execution_count": 32,
     "metadata": {},
     "output_type": "execute_result"
    }
   ],
   "source": [
    "df['WEEKEND_ARRIVAL'].unique()"
   ]
  },
  {
   "cell_type": "code",
   "execution_count": 33,
   "id": "e6ac83ca-75ad-444a-91ae-aa5e3e999bf1",
   "metadata": {},
   "outputs": [
    {
     "data": {
      "text/plain": [
       "array([ True, False])"
      ]
     },
     "execution_count": 33,
     "metadata": {},
     "output_type": "execute_result"
    }
   ],
   "source": [
    "df['WEEKEND_DEPARTURE'].unique()"
   ]
  },
  {
   "cell_type": "code",
   "execution_count": 34,
   "id": "6ee0221c-affb-4c7d-b7e6-eb752e525cd3",
   "metadata": {},
   "outputs": [
    {
     "name": "stdout",
     "output_type": "stream",
     "text": [
      "bool\n"
     ]
    }
   ],
   "source": [
    "print(df['ROUNDTRIP'].dtype)"
   ]
  },
  {
   "cell_type": "code",
   "execution_count": 35,
   "id": "4710cdc5-79b7-478c-8dd7-ec9d9b6f8e5e",
   "metadata": {},
   "outputs": [
    {
     "name": "stdout",
     "output_type": "stream",
     "text": [
      "bool\n"
     ]
    }
   ],
   "source": [
    "print(df['NONSTOP'].dtype)"
   ]
  },
  {
   "cell_type": "markdown",
   "id": "a71a340e-0f65-4c5f-a0ab-9f08aac2cec8",
   "metadata": {},
   "source": [
    "#### Converting WEEKEND_ARRIVAL, WEEKEND_DEPARTURE, Holiday_Departure, Holiday_Return, ROUNDTRIP, NONSTOP Data types"
   ]
  },
  {
   "cell_type": "code",
   "execution_count": 36,
   "id": "b2d9d77e-3f81-4ffd-af67-597f7f92f605",
   "metadata": {},
   "outputs": [
    {
     "data": {
      "text/plain": [
       "array([0., 1.])"
      ]
     },
     "execution_count": 36,
     "metadata": {},
     "output_type": "execute_result"
    }
   ],
   "source": [
    "# Replace NaN values with 0 in WEEKEND_ARRIVAL\n",
    "# NaN values in pandas are represented as np.nan (special floating-point value), not as the string 'NaN'\n",
    "df['WEEKEND_ARRIVAL'].fillna(0, inplace=True)\n",
    "df['WEEKEND_ARRIVAL'].unique()"
   ]
  },
  {
   "cell_type": "code",
   "execution_count": 37,
   "id": "fb0901dc-bd7f-4325-8f62-297e479f7c78",
   "metadata": {},
   "outputs": [
    {
     "name": "stdout",
     "output_type": "stream",
     "text": [
      "int64\n"
     ]
    }
   ],
   "source": [
    "# Convert WEEKEND_DEPARTURE from bool to integer\n",
    "df['WEEKEND_DEPARTURE'] = df['WEEKEND_DEPARTURE'].astype(int)\n",
    "print(df['WEEKEND_DEPARTURE'].dtype)"
   ]
  },
  {
   "cell_type": "code",
   "execution_count": 38,
   "id": "2e91f7fe-8b90-4842-8fec-e1a198d70bc1",
   "metadata": {},
   "outputs": [
    {
     "data": {
      "text/plain": [
       "array([0, 1])"
      ]
     },
     "execution_count": 38,
     "metadata": {},
     "output_type": "execute_result"
    }
   ],
   "source": [
    "# Convert Holiday_Departure: NaN becomes 0, others become 1\n",
    "df['Holiday_Departure'] = np.where(df['Holiday_Departure'].isna(), 0, 1).astype(int)\n",
    "df['Holiday_Departure'].unique()"
   ]
  },
  {
   "cell_type": "code",
   "execution_count": 39,
   "id": "73def6d8-5e45-4b54-9d1e-046fc11bd03e",
   "metadata": {},
   "outputs": [
    {
     "data": {
      "text/plain": [
       "array([1, 0])"
      ]
     },
     "execution_count": 39,
     "metadata": {},
     "output_type": "execute_result"
    }
   ],
   "source": [
    "# Conver Holiday_Return: nan -> 0, else ->1\n",
    "df['Holiday_Return'] = np.where(df['Holiday_Return'].isna(), 0, 1).astype(int)\n",
    "df['Holiday_Return'].unique()"
   ]
  },
  {
   "cell_type": "code",
   "execution_count": 40,
   "id": "3f8140f8-b877-4cb9-bd15-838b2c908c75",
   "metadata": {},
   "outputs": [
    {
     "name": "stdout",
     "output_type": "stream",
     "text": [
      "int64\n"
     ]
    }
   ],
   "source": [
    "#Convert ROUNDTRIP from boolean to integer\n",
    "df['ROUNDTRIP'] = df['ROUNDTRIP'].astype(int)\n",
    "print(df['ROUNDTRIP'].dtype)"
   ]
  },
  {
   "cell_type": "code",
   "execution_count": 41,
   "id": "34ae927c-5145-4bb2-85e6-bb529b026c6c",
   "metadata": {},
   "outputs": [
    {
     "name": "stdout",
     "output_type": "stream",
     "text": [
      "int64\n"
     ]
    }
   ],
   "source": [
    "#Covert NONSTOP from boolean to integer\n",
    "df['NONSTOP'] = df['NONSTOP'].astype(int)\n",
    "print(df['NONSTOP'].dtype)"
   ]
  },
  {
   "cell_type": "code",
   "execution_count": 42,
   "id": "d123d86c-913f-41d8-8bc9-bc733ac1ac43",
   "metadata": {
    "scrolled": true
   },
   "outputs": [
    {
     "data": {
      "text/plain": [
       "PNR                                   2249557\n",
       "PNR_CREATE_DT                             514\n",
       "NUM_IN_PARTY                               58\n",
       "CHANNEL                                     6\n",
       "ORIGIN                                    205\n",
       "DEST                                      205\n",
       "OD                                       4072\n",
       "NUM_SEGMENTS                                4\n",
       "PNR_DEPARTURE_DATE                        184\n",
       "PNR_RETURN_DATE                           245\n",
       "BUSINESS_PROBABILITY                     4101\n",
       "BLEISURE_PROBABILITY                     3898\n",
       "VFR_PROBABILITY                          9733\n",
       "VACATION_PROBABILITY                     9831\n",
       "PERSONAL_PROBABILITY                     7476\n",
       "REVENUE                                 75413\n",
       "ADVANCED_PURCHASE                         331\n",
       "ROUNDTRIP                                   2\n",
       "NONSTOP                                     2\n",
       "REVENUE_PER_PERSON                      63322\n",
       "TRAVEL_TYPE                                 3\n",
       "departure_month                             6\n",
       "departure_month_name                        6\n",
       "Holiday_Departure                           2\n",
       "Holiday_Return                              2\n",
       "Cumulative_Booking_Count                  555\n",
       "LENGTH_OF_STAY                            110\n",
       "WEEKEND_DEPARTURE                           2\n",
       "WEEKEND_ARRIVAL                             2\n",
       "Distance_Bin                                8\n",
       "BOOKING_WINDOW                              4\n",
       "TRAVEL_DISTANCE                          2025\n",
       "RPM                                    484701\n",
       "RPM_CumulativeBookings_Interaction    1134844\n",
       "Revenue_AP_Ratio                      1259440\n",
       "Distance_Adjusted_Revenue              171849\n",
       "Cumulative_Advance_Purchase_Ratio       36514\n",
       "Channel_RPM_Ratio                      615492\n",
       "dtype: int64"
      ]
     },
     "execution_count": 42,
     "metadata": {},
     "output_type": "execute_result"
    }
   ],
   "source": [
    "df.nunique()"
   ]
  },
  {
   "cell_type": "code",
   "execution_count": 43,
   "id": "90b848f1-4a33-4dd2-955d-29370e481ce0",
   "metadata": {
    "scrolled": true
   },
   "outputs": [
    {
     "name": "stdout",
     "output_type": "stream",
     "text": [
      "<class 'pandas.core.frame.DataFrame'>\n",
      "Index: 2249557 entries, 0 to 2249588\n",
      "Data columns (total 38 columns):\n",
      " #   Column                              Dtype   \n",
      "---  ------                              -----   \n",
      " 0   PNR                                 object  \n",
      " 1   PNR_CREATE_DT                       object  \n",
      " 2   NUM_IN_PARTY                        int64   \n",
      " 3   CHANNEL                             object  \n",
      " 4   ORIGIN                              object  \n",
      " 5   DEST                                object  \n",
      " 6   OD                                  object  \n",
      " 7   NUM_SEGMENTS                        int64   \n",
      " 8   PNR_DEPARTURE_DATE                  object  \n",
      " 9   PNR_RETURN_DATE                     object  \n",
      " 10  BUSINESS_PROBABILITY                float64 \n",
      " 11  BLEISURE_PROBABILITY                float64 \n",
      " 12  VFR_PROBABILITY                     float64 \n",
      " 13  VACATION_PROBABILITY                float64 \n",
      " 14  PERSONAL_PROBABILITY                float64 \n",
      " 15  REVENUE                             float64 \n",
      " 16  ADVANCED_PURCHASE                   int64   \n",
      " 17  ROUNDTRIP                           int64   \n",
      " 18  NONSTOP                             int64   \n",
      " 19  REVENUE_PER_PERSON                  float64 \n",
      " 20  TRAVEL_TYPE                         object  \n",
      " 21  departure_month                     int64   \n",
      " 22  departure_month_name                object  \n",
      " 23  Holiday_Departure                   int64   \n",
      " 24  Holiday_Return                      int64   \n",
      " 25  Cumulative_Booking_Count            int64   \n",
      " 26  LENGTH_OF_STAY                      object  \n",
      " 27  WEEKEND_DEPARTURE                   int64   \n",
      " 28  WEEKEND_ARRIVAL                     float64 \n",
      " 29  Distance_Bin                        category\n",
      " 30  BOOKING_WINDOW                      object  \n",
      " 31  TRAVEL_DISTANCE                     float64 \n",
      " 32  RPM                                 float64 \n",
      " 33  RPM_CumulativeBookings_Interaction  float64 \n",
      " 34  Revenue_AP_Ratio                    float64 \n",
      " 35  Distance_Adjusted_Revenue           float64 \n",
      " 36  Cumulative_Advance_Purchase_Ratio   float64 \n",
      " 37  Channel_RPM_Ratio                   float64 \n",
      "dtypes: category(1), float64(15), int64(10), object(12)\n",
      "memory usage: 654.3+ MB\n"
     ]
    }
   ],
   "source": [
    "df.info()"
   ]
  },
  {
   "cell_type": "code",
   "execution_count": 44,
   "id": "97a9d5df-96f6-457b-a48e-155853de3c6b",
   "metadata": {},
   "outputs": [],
   "source": [
    "df2 = df.copy()"
   ]
  },
  {
   "cell_type": "code",
   "execution_count": 45,
   "id": "53cccf62-2dce-4e22-9716-78b8df829610",
   "metadata": {},
   "outputs": [],
   "source": [
    "# Encode categorical variables - ordinal encode\n",
    "label_encoder = LabelEncoder()\n",
    "df2['CHANNEL'] = label_encoder.fit_transform(df2['CHANNEL'])\n",
    "df2['ORIGIN'] = label_encoder.fit_transform(df2['ORIGIN'])\n",
    "df2['DEST'] = label_encoder.fit_transform(df2['DEST'])\n",
    "df2['OD'] = label_encoder.fit_transform(df2['OD'])\n",
    "df2['TRAVEL_TYPE'] = label_encoder.fit_transform(df2['TRAVEL_TYPE'])\n",
    "df2['departure_month'] = label_encoder.fit_transform(df2['departure_month'])\n",
    "df2['Distance_Bin'] = label_encoder.fit_transform(df2['Distance_Bin'])\n",
    "df2['BOOKING_WINDOW'] = label_encoder.fit_transform(df2['BOOKING_WINDOW'])\n"
   ]
  },
  {
   "cell_type": "code",
   "execution_count": 46,
   "id": "589e3e8a-7651-471a-9255-08eecc47fda4",
   "metadata": {},
   "outputs": [
    {
     "data": {
      "text/html": [
       "<div>\n",
       "<style scoped>\n",
       "    .dataframe tbody tr th:only-of-type {\n",
       "        vertical-align: middle;\n",
       "    }\n",
       "\n",
       "    .dataframe tbody tr th {\n",
       "        vertical-align: top;\n",
       "    }\n",
       "\n",
       "    .dataframe thead th {\n",
       "        text-align: right;\n",
       "    }\n",
       "</style>\n",
       "<table border=\"1\" class=\"dataframe\">\n",
       "  <thead>\n",
       "    <tr style=\"text-align: right;\">\n",
       "      <th></th>\n",
       "      <th>PNR</th>\n",
       "      <th>PNR_CREATE_DT</th>\n",
       "      <th>NUM_IN_PARTY</th>\n",
       "      <th>CHANNEL</th>\n",
       "      <th>ORIGIN</th>\n",
       "      <th>DEST</th>\n",
       "      <th>OD</th>\n",
       "      <th>NUM_SEGMENTS</th>\n",
       "      <th>PNR_DEPARTURE_DATE</th>\n",
       "      <th>PNR_RETURN_DATE</th>\n",
       "      <th>...</th>\n",
       "      <th>WEEKEND_ARRIVAL</th>\n",
       "      <th>Distance_Bin</th>\n",
       "      <th>BOOKING_WINDOW</th>\n",
       "      <th>TRAVEL_DISTANCE</th>\n",
       "      <th>RPM</th>\n",
       "      <th>RPM_CumulativeBookings_Interaction</th>\n",
       "      <th>Revenue_AP_Ratio</th>\n",
       "      <th>Distance_Adjusted_Revenue</th>\n",
       "      <th>Cumulative_Advance_Purchase_Ratio</th>\n",
       "      <th>Channel_RPM_Ratio</th>\n",
       "    </tr>\n",
       "  </thead>\n",
       "  <tbody>\n",
       "    <tr>\n",
       "      <th>653105</th>\n",
       "      <td>A59565</td>\n",
       "      <td>2022-09-17</td>\n",
       "      <td>1</td>\n",
       "      <td>1</td>\n",
       "      <td>55</td>\n",
       "      <td>176</td>\n",
       "      <td>1014</td>\n",
       "      <td>1</td>\n",
       "      <td>2022-10-14</td>\n",
       "      <td>NaN</td>\n",
       "      <td>...</td>\n",
       "      <td>0.0</td>\n",
       "      <td>6</td>\n",
       "      <td>2</td>\n",
       "      <td>731.79</td>\n",
       "      <td>0.374998</td>\n",
       "      <td>14.624933</td>\n",
       "      <td>0.013393</td>\n",
       "      <td>1.796118</td>\n",
       "      <td>38.035714</td>\n",
       "      <td>1.654579</td>\n",
       "    </tr>\n",
       "    <tr>\n",
       "      <th>1124436</th>\n",
       "      <td>D498141</td>\n",
       "      <td>2022-07-26</td>\n",
       "      <td>1</td>\n",
       "      <td>1</td>\n",
       "      <td>118</td>\n",
       "      <td>143</td>\n",
       "      <td>2240</td>\n",
       "      <td>1</td>\n",
       "      <td>2022-12-03</td>\n",
       "      <td>NaN</td>\n",
       "      <td>...</td>\n",
       "      <td>0.0</td>\n",
       "      <td>1</td>\n",
       "      <td>2</td>\n",
       "      <td>1006.65</td>\n",
       "      <td>0.146009</td>\n",
       "      <td>1.314081</td>\n",
       "      <td>0.001115</td>\n",
       "      <td>0.789841</td>\n",
       "      <td>8.007634</td>\n",
       "      <td>0.644226</td>\n",
       "    </tr>\n",
       "    <tr>\n",
       "      <th>1999575</th>\n",
       "      <td>C418806</td>\n",
       "      <td>2022-10-31</td>\n",
       "      <td>4</td>\n",
       "      <td>3</td>\n",
       "      <td>176</td>\n",
       "      <td>118</td>\n",
       "      <td>3461</td>\n",
       "      <td>2</td>\n",
       "      <td>2022-11-04</td>\n",
       "      <td>2022-11-06</td>\n",
       "      <td>...</td>\n",
       "      <td>1.0</td>\n",
       "      <td>6</td>\n",
       "      <td>0</td>\n",
       "      <td>719.95</td>\n",
       "      <td>0.142774</td>\n",
       "      <td>1.427738</td>\n",
       "      <td>0.028555</td>\n",
       "      <td>0.672775</td>\n",
       "      <td>9.200000</td>\n",
       "      <td>0.833999</td>\n",
       "    </tr>\n",
       "    <tr>\n",
       "      <th>202992</th>\n",
       "      <td>D13675</td>\n",
       "      <td>2022-07-27</td>\n",
       "      <td>2</td>\n",
       "      <td>1</td>\n",
       "      <td>25</td>\n",
       "      <td>138</td>\n",
       "      <td>440</td>\n",
       "      <td>1</td>\n",
       "      <td>2022-08-06</td>\n",
       "      <td>NaN</td>\n",
       "      <td>...</td>\n",
       "      <td>0.0</td>\n",
       "      <td>6</td>\n",
       "      <td>3</td>\n",
       "      <td>738.08</td>\n",
       "      <td>0.111539</td>\n",
       "      <td>1.338473</td>\n",
       "      <td>0.010140</td>\n",
       "      <td>0.538829</td>\n",
       "      <td>11.090909</td>\n",
       "      <td>0.492138</td>\n",
       "    </tr>\n",
       "    <tr>\n",
       "      <th>575018</th>\n",
       "      <td>B149683</td>\n",
       "      <td>2022-05-13</td>\n",
       "      <td>2</td>\n",
       "      <td>1</td>\n",
       "      <td>55</td>\n",
       "      <td>129</td>\n",
       "      <td>1005</td>\n",
       "      <td>1</td>\n",
       "      <td>2022-07-08</td>\n",
       "      <td>NaN</td>\n",
       "      <td>...</td>\n",
       "      <td>0.0</td>\n",
       "      <td>6</td>\n",
       "      <td>2</td>\n",
       "      <td>691.10</td>\n",
       "      <td>0.523600</td>\n",
       "      <td>1.570800</td>\n",
       "      <td>0.009186</td>\n",
       "      <td>2.368425</td>\n",
       "      <td>2.017544</td>\n",
       "      <td>2.310244</td>\n",
       "    </tr>\n",
       "    <tr>\n",
       "      <th>1658589</th>\n",
       "      <td>D155578</td>\n",
       "      <td>2022-10-26</td>\n",
       "      <td>1</td>\n",
       "      <td>3</td>\n",
       "      <td>150</td>\n",
       "      <td>126</td>\n",
       "      <td>2858</td>\n",
       "      <td>1</td>\n",
       "      <td>2022-11-04</td>\n",
       "      <td>NaN</td>\n",
       "      <td>...</td>\n",
       "      <td>0.0</td>\n",
       "      <td>1</td>\n",
       "      <td>3</td>\n",
       "      <td>1015.35</td>\n",
       "      <td>0.228128</td>\n",
       "      <td>67.754085</td>\n",
       "      <td>0.022813</td>\n",
       "      <td>1.244734</td>\n",
       "      <td>296.100000</td>\n",
       "      <td>1.332589</td>\n",
       "    </tr>\n",
       "    <tr>\n",
       "      <th>2118714</th>\n",
       "      <td>C326211</td>\n",
       "      <td>2022-07-18</td>\n",
       "      <td>2</td>\n",
       "      <td>1</td>\n",
       "      <td>183</td>\n",
       "      <td>143</td>\n",
       "      <td>3642</td>\n",
       "      <td>1</td>\n",
       "      <td>2022-10-25</td>\n",
       "      <td>NaN</td>\n",
       "      <td>...</td>\n",
       "      <td>0.0</td>\n",
       "      <td>1</td>\n",
       "      <td>2</td>\n",
       "      <td>1246.41</td>\n",
       "      <td>0.100753</td>\n",
       "      <td>0.201507</td>\n",
       "      <td>0.001008</td>\n",
       "      <td>0.674842</td>\n",
       "      <td>1.010000</td>\n",
       "      <td>0.444547</td>\n",
       "    </tr>\n",
       "    <tr>\n",
       "      <th>832839</th>\n",
       "      <td>B355291</td>\n",
       "      <td>2022-08-08</td>\n",
       "      <td>2</td>\n",
       "      <td>1</td>\n",
       "      <td>84</td>\n",
       "      <td>169</td>\n",
       "      <td>1558</td>\n",
       "      <td>1</td>\n",
       "      <td>2022-08-25</td>\n",
       "      <td>NaN</td>\n",
       "      <td>...</td>\n",
       "      <td>0.0</td>\n",
       "      <td>1</td>\n",
       "      <td>1</td>\n",
       "      <td>1168.09</td>\n",
       "      <td>0.104324</td>\n",
       "      <td>0.208648</td>\n",
       "      <td>0.005796</td>\n",
       "      <td>0.654851</td>\n",
       "      <td>1.055556</td>\n",
       "      <td>0.460302</td>\n",
       "    </tr>\n",
       "    <tr>\n",
       "      <th>1162348</th>\n",
       "      <td>B507006</td>\n",
       "      <td>2022-09-23</td>\n",
       "      <td>2</td>\n",
       "      <td>1</td>\n",
       "      <td>120</td>\n",
       "      <td>151</td>\n",
       "      <td>2289</td>\n",
       "      <td>1</td>\n",
       "      <td>2022-11-24</td>\n",
       "      <td>NaN</td>\n",
       "      <td>...</td>\n",
       "      <td>0.0</td>\n",
       "      <td>2</td>\n",
       "      <td>2</td>\n",
       "      <td>1260.97</td>\n",
       "      <td>0.051270</td>\n",
       "      <td>0.717781</td>\n",
       "      <td>0.000814</td>\n",
       "      <td>0.319641</td>\n",
       "      <td>13.015873</td>\n",
       "      <td>0.226215</td>\n",
       "    </tr>\n",
       "    <tr>\n",
       "      <th>765707</th>\n",
       "      <td>D702045</td>\n",
       "      <td>2022-10-26</td>\n",
       "      <td>2</td>\n",
       "      <td>1</td>\n",
       "      <td>66</td>\n",
       "      <td>55</td>\n",
       "      <td>1243</td>\n",
       "      <td>1</td>\n",
       "      <td>2022-12-05</td>\n",
       "      <td>NaN</td>\n",
       "      <td>...</td>\n",
       "      <td>0.0</td>\n",
       "      <td>1</td>\n",
       "      <td>2</td>\n",
       "      <td>1088.56</td>\n",
       "      <td>0.138867</td>\n",
       "      <td>0.694335</td>\n",
       "      <td>0.003387</td>\n",
       "      <td>0.812331</td>\n",
       "      <td>4.024390</td>\n",
       "      <td>0.612713</td>\n",
       "    </tr>\n",
       "  </tbody>\n",
       "</table>\n",
       "<p>10 rows × 38 columns</p>\n",
       "</div>"
      ],
      "text/plain": [
       "             PNR PNR_CREATE_DT  NUM_IN_PARTY  CHANNEL  ORIGIN  DEST    OD  \\\n",
       "653105    A59565    2022-09-17             1        1      55   176  1014   \n",
       "1124436  D498141    2022-07-26             1        1     118   143  2240   \n",
       "1999575  C418806    2022-10-31             4        3     176   118  3461   \n",
       "202992    D13675    2022-07-27             2        1      25   138   440   \n",
       "575018   B149683    2022-05-13             2        1      55   129  1005   \n",
       "1658589  D155578    2022-10-26             1        3     150   126  2858   \n",
       "2118714  C326211    2022-07-18             2        1     183   143  3642   \n",
       "832839   B355291    2022-08-08             2        1      84   169  1558   \n",
       "1162348  B507006    2022-09-23             2        1     120   151  2289   \n",
       "765707   D702045    2022-10-26             2        1      66    55  1243   \n",
       "\n",
       "         NUM_SEGMENTS PNR_DEPARTURE_DATE PNR_RETURN_DATE  ...  \\\n",
       "653105              1         2022-10-14             NaN  ...   \n",
       "1124436             1         2022-12-03             NaN  ...   \n",
       "1999575             2         2022-11-04      2022-11-06  ...   \n",
       "202992              1         2022-08-06             NaN  ...   \n",
       "575018              1         2022-07-08             NaN  ...   \n",
       "1658589             1         2022-11-04             NaN  ...   \n",
       "2118714             1         2022-10-25             NaN  ...   \n",
       "832839              1         2022-08-25             NaN  ...   \n",
       "1162348             1         2022-11-24             NaN  ...   \n",
       "765707              1         2022-12-05             NaN  ...   \n",
       "\n",
       "         WEEKEND_ARRIVAL  Distance_Bin  BOOKING_WINDOW  TRAVEL_DISTANCE  \\\n",
       "653105               0.0             6               2           731.79   \n",
       "1124436              0.0             1               2          1006.65   \n",
       "1999575              1.0             6               0           719.95   \n",
       "202992               0.0             6               3           738.08   \n",
       "575018               0.0             6               2           691.10   \n",
       "1658589              0.0             1               3          1015.35   \n",
       "2118714              0.0             1               2          1246.41   \n",
       "832839               0.0             1               1          1168.09   \n",
       "1162348              0.0             2               2          1260.97   \n",
       "765707               0.0             1               2          1088.56   \n",
       "\n",
       "              RPM  RPM_CumulativeBookings_Interaction  Revenue_AP_Ratio  \\\n",
       "653105   0.374998                           14.624933          0.013393   \n",
       "1124436  0.146009                            1.314081          0.001115   \n",
       "1999575  0.142774                            1.427738          0.028555   \n",
       "202992   0.111539                            1.338473          0.010140   \n",
       "575018   0.523600                            1.570800          0.009186   \n",
       "1658589  0.228128                           67.754085          0.022813   \n",
       "2118714  0.100753                            0.201507          0.001008   \n",
       "832839   0.104324                            0.208648          0.005796   \n",
       "1162348  0.051270                            0.717781          0.000814   \n",
       "765707   0.138867                            0.694335          0.003387   \n",
       "\n",
       "         Distance_Adjusted_Revenue  Cumulative_Advance_Purchase_Ratio  \\\n",
       "653105                    1.796118                          38.035714   \n",
       "1124436                   0.789841                           8.007634   \n",
       "1999575                   0.672775                           9.200000   \n",
       "202992                    0.538829                          11.090909   \n",
       "575018                    2.368425                           2.017544   \n",
       "1658589                   1.244734                         296.100000   \n",
       "2118714                   0.674842                           1.010000   \n",
       "832839                    0.654851                           1.055556   \n",
       "1162348                   0.319641                          13.015873   \n",
       "765707                    0.812331                           4.024390   \n",
       "\n",
       "         Channel_RPM_Ratio  \n",
       "653105            1.654579  \n",
       "1124436           0.644226  \n",
       "1999575           0.833999  \n",
       "202992            0.492138  \n",
       "575018            2.310244  \n",
       "1658589           1.332589  \n",
       "2118714           0.444547  \n",
       "832839            0.460302  \n",
       "1162348           0.226215  \n",
       "765707            0.612713  \n",
       "\n",
       "[10 rows x 38 columns]"
      ]
     },
     "execution_count": 46,
     "metadata": {},
     "output_type": "execute_result"
    }
   ],
   "source": [
    "df2.sample(10)"
   ]
  },
  {
   "cell_type": "code",
   "execution_count": 47,
   "id": "161b203f-fcbb-446f-9426-47d3012a9234",
   "metadata": {},
   "outputs": [
    {
     "data": {
      "text/html": [
       "<div>\n",
       "<style scoped>\n",
       "    .dataframe tbody tr th:only-of-type {\n",
       "        vertical-align: middle;\n",
       "    }\n",
       "\n",
       "    .dataframe tbody tr th {\n",
       "        vertical-align: top;\n",
       "    }\n",
       "\n",
       "    .dataframe thead th {\n",
       "        text-align: right;\n",
       "    }\n",
       "</style>\n",
       "<table border=\"1\" class=\"dataframe\">\n",
       "  <thead>\n",
       "    <tr style=\"text-align: right;\">\n",
       "      <th></th>\n",
       "      <th>NUM_IN_PARTY</th>\n",
       "      <th>CHANNEL</th>\n",
       "      <th>ORIGIN</th>\n",
       "      <th>DEST</th>\n",
       "      <th>OD</th>\n",
       "      <th>NUM_SEGMENTS</th>\n",
       "      <th>VFR_PROBABILITY</th>\n",
       "      <th>VACATION_PROBABILITY</th>\n",
       "      <th>PERSONAL_PROBABILITY</th>\n",
       "      <th>ADVANCED_PURCHASE</th>\n",
       "      <th>...</th>\n",
       "      <th>departure_month</th>\n",
       "      <th>TRAVEL_DISTANCE</th>\n",
       "      <th>Holiday_Departure</th>\n",
       "      <th>Holiday_Return</th>\n",
       "      <th>Cumulative_Booking_Count</th>\n",
       "      <th>WEEKEND_DEPARTURE</th>\n",
       "      <th>WEEKEND_ARRIVAL</th>\n",
       "      <th>Distance_Bin</th>\n",
       "      <th>BOOKING_WINDOW</th>\n",
       "      <th>Cumulative_Advance_Purchase_Ratio</th>\n",
       "    </tr>\n",
       "  </thead>\n",
       "  <tbody>\n",
       "    <tr>\n",
       "      <th>0</th>\n",
       "      <td>2</td>\n",
       "      <td>1</td>\n",
       "      <td>0</td>\n",
       "      <td>25</td>\n",
       "      <td>0</td>\n",
       "      <td>2</td>\n",
       "      <td>0.7196</td>\n",
       "      <td>0.1549</td>\n",
       "      <td>0.0818</td>\n",
       "      <td>3</td>\n",
       "      <td>...</td>\n",
       "      <td>0</td>\n",
       "      <td>258.03</td>\n",
       "      <td>0</td>\n",
       "      <td>1</td>\n",
       "      <td>0</td>\n",
       "      <td>1</td>\n",
       "      <td>0.0</td>\n",
       "      <td>5</td>\n",
       "      <td>0</td>\n",
       "      <td>0.250000</td>\n",
       "    </tr>\n",
       "    <tr>\n",
       "      <th>1</th>\n",
       "      <td>2</td>\n",
       "      <td>1</td>\n",
       "      <td>0</td>\n",
       "      <td>25</td>\n",
       "      <td>0</td>\n",
       "      <td>1</td>\n",
       "      <td>0.8315</td>\n",
       "      <td>0.0781</td>\n",
       "      <td>0.0459</td>\n",
       "      <td>3</td>\n",
       "      <td>...</td>\n",
       "      <td>0</td>\n",
       "      <td>258.03</td>\n",
       "      <td>0</td>\n",
       "      <td>0</td>\n",
       "      <td>1</td>\n",
       "      <td>1</td>\n",
       "      <td>0.0</td>\n",
       "      <td>5</td>\n",
       "      <td>0</td>\n",
       "      <td>1.250000</td>\n",
       "    </tr>\n",
       "    <tr>\n",
       "      <th>2</th>\n",
       "      <td>1</td>\n",
       "      <td>1</td>\n",
       "      <td>0</td>\n",
       "      <td>25</td>\n",
       "      <td>0</td>\n",
       "      <td>1</td>\n",
       "      <td>0.5196</td>\n",
       "      <td>0.0939</td>\n",
       "      <td>0.2188</td>\n",
       "      <td>2</td>\n",
       "      <td>...</td>\n",
       "      <td>0</td>\n",
       "      <td>258.03</td>\n",
       "      <td>1</td>\n",
       "      <td>0</td>\n",
       "      <td>0</td>\n",
       "      <td>1</td>\n",
       "      <td>0.0</td>\n",
       "      <td>5</td>\n",
       "      <td>0</td>\n",
       "      <td>0.333333</td>\n",
       "    </tr>\n",
       "    <tr>\n",
       "      <th>3</th>\n",
       "      <td>2</td>\n",
       "      <td>1</td>\n",
       "      <td>0</td>\n",
       "      <td>25</td>\n",
       "      <td>0</td>\n",
       "      <td>1</td>\n",
       "      <td>0.5615</td>\n",
       "      <td>0.1940</td>\n",
       "      <td>0.0780</td>\n",
       "      <td>1</td>\n",
       "      <td>...</td>\n",
       "      <td>0</td>\n",
       "      <td>258.03</td>\n",
       "      <td>1</td>\n",
       "      <td>0</td>\n",
       "      <td>1</td>\n",
       "      <td>1</td>\n",
       "      <td>0.0</td>\n",
       "      <td>5</td>\n",
       "      <td>0</td>\n",
       "      <td>1.500000</td>\n",
       "    </tr>\n",
       "    <tr>\n",
       "      <th>4</th>\n",
       "      <td>2</td>\n",
       "      <td>1</td>\n",
       "      <td>0</td>\n",
       "      <td>25</td>\n",
       "      <td>0</td>\n",
       "      <td>1</td>\n",
       "      <td>0.4436</td>\n",
       "      <td>0.0860</td>\n",
       "      <td>0.2535</td>\n",
       "      <td>2</td>\n",
       "      <td>...</td>\n",
       "      <td>0</td>\n",
       "      <td>258.03</td>\n",
       "      <td>1</td>\n",
       "      <td>0</td>\n",
       "      <td>0</td>\n",
       "      <td>1</td>\n",
       "      <td>0.0</td>\n",
       "      <td>5</td>\n",
       "      <td>0</td>\n",
       "      <td>0.333333</td>\n",
       "    </tr>\n",
       "  </tbody>\n",
       "</table>\n",
       "<p>5 rows × 24 columns</p>\n",
       "</div>"
      ],
      "text/plain": [
       "   NUM_IN_PARTY  CHANNEL  ORIGIN  DEST  OD  NUM_SEGMENTS  VFR_PROBABILITY  \\\n",
       "0             2        1       0    25   0             2           0.7196   \n",
       "1             2        1       0    25   0             1           0.8315   \n",
       "2             1        1       0    25   0             1           0.5196   \n",
       "3             2        1       0    25   0             1           0.5615   \n",
       "4             2        1       0    25   0             1           0.4436   \n",
       "\n",
       "   VACATION_PROBABILITY  PERSONAL_PROBABILITY  ADVANCED_PURCHASE  ...  \\\n",
       "0                0.1549                0.0818                  3  ...   \n",
       "1                0.0781                0.0459                  3  ...   \n",
       "2                0.0939                0.2188                  2  ...   \n",
       "3                0.1940                0.0780                  1  ...   \n",
       "4                0.0860                0.2535                  2  ...   \n",
       "\n",
       "   departure_month  TRAVEL_DISTANCE  Holiday_Departure  Holiday_Return  \\\n",
       "0                0           258.03                  0               1   \n",
       "1                0           258.03                  0               0   \n",
       "2                0           258.03                  1               0   \n",
       "3                0           258.03                  1               0   \n",
       "4                0           258.03                  1               0   \n",
       "\n",
       "   Cumulative_Booking_Count  WEEKEND_DEPARTURE  WEEKEND_ARRIVAL  Distance_Bin  \\\n",
       "0                         0                  1              0.0             5   \n",
       "1                         1                  1              0.0             5   \n",
       "2                         0                  1              0.0             5   \n",
       "3                         1                  1              0.0             5   \n",
       "4                         0                  1              0.0             5   \n",
       "\n",
       "   BOOKING_WINDOW  Cumulative_Advance_Purchase_Ratio  \n",
       "0               0                           0.250000  \n",
       "1               0                           1.250000  \n",
       "2               0                           0.333333  \n",
       "3               0                           1.500000  \n",
       "4               0                           0.333333  \n",
       "\n",
       "[5 rows x 24 columns]"
      ]
     },
     "execution_count": 47,
     "metadata": {},
     "output_type": "execute_result"
    }
   ],
   "source": [
    "# Exclude dates, departure_month_name, REVENUE, LENGTH_OF_STAY\n",
    "df_numeric = df2[['NUM_IN_PARTY','CHANNEL', 'ORIGIN', 'DEST', 'OD', 'NUM_SEGMENTS', 'VFR_PROBABILITY',\n",
    "                 'VACATION_PROBABILITY', 'PERSONAL_PROBABILITY', 'ADVANCED_PURCHASE', \n",
    "                 'ROUNDTRIP','NONSTOP','REVENUE_PER_PERSON','TRAVEL_TYPE', 'departure_month', 'TRAVEL_DISTANCE',\n",
    "                 'Holiday_Departure', 'Holiday_Return', 'Cumulative_Booking_Count',\n",
    "                 'WEEKEND_DEPARTURE', 'WEEKEND_ARRIVAL', 'Distance_Bin', 'BOOKING_WINDOW',\n",
    "                 'Cumulative_Advance_Purchase_Ratio' ]]\n",
    "df_numeric.head()\n",
    "\n",
    "# Take off 'Channel_RPM_Ratio', 'RPM', 'RPM_CumulativeBookings_Interaction','Distance_Adjusted_Revenue','Revenue_AP_Ratio'\n",
    "# The features removed are more predictive of Revenue per Person (RPP) compared to non-WTP features, as they directly involve RPP in their computation."
   ]
  },
  {
   "cell_type": "code",
   "execution_count": 48,
   "id": "bc78cb97-49c4-478d-93a6-56a9637e39e5",
   "metadata": {
    "scrolled": true
   },
   "outputs": [
    {
     "data": {
      "text/plain": [
       "Holiday_Departure\n",
       "0    1979961\n",
       "1     269596\n",
       "Name: count, dtype: int64"
      ]
     },
     "execution_count": 48,
     "metadata": {},
     "output_type": "execute_result"
    }
   ],
   "source": [
    "df_numeric['Holiday_Departure'].value_counts() #originally: holiday names"
   ]
  },
  {
   "cell_type": "code",
   "execution_count": 49,
   "id": "ae860c98-c6da-479e-a582-4a0d5f2d6338",
   "metadata": {
    "scrolled": true
   },
   "outputs": [
    {
     "name": "stdout",
     "output_type": "stream",
     "text": [
      "<class 'pandas.core.frame.DataFrame'>\n",
      "Index: 2249557 entries, 0 to 2249588\n",
      "Data columns (total 24 columns):\n",
      " #   Column                             Dtype  \n",
      "---  ------                             -----  \n",
      " 0   NUM_IN_PARTY                       int64  \n",
      " 1   CHANNEL                            int64  \n",
      " 2   ORIGIN                             int64  \n",
      " 3   DEST                               int64  \n",
      " 4   OD                                 int64  \n",
      " 5   NUM_SEGMENTS                       int64  \n",
      " 6   VFR_PROBABILITY                    float64\n",
      " 7   VACATION_PROBABILITY               float64\n",
      " 8   PERSONAL_PROBABILITY               float64\n",
      " 9   ADVANCED_PURCHASE                  int64  \n",
      " 10  ROUNDTRIP                          int64  \n",
      " 11  NONSTOP                            int64  \n",
      " 12  REVENUE_PER_PERSON                 float64\n",
      " 13  TRAVEL_TYPE                        int64  \n",
      " 14  departure_month                    int64  \n",
      " 15  TRAVEL_DISTANCE                    float64\n",
      " 16  Holiday_Departure                  int64  \n",
      " 17  Holiday_Return                     int64  \n",
      " 18  Cumulative_Booking_Count           int64  \n",
      " 19  WEEKEND_DEPARTURE                  int64  \n",
      " 20  WEEKEND_ARRIVAL                    float64\n",
      " 21  Distance_Bin                       int64  \n",
      " 22  BOOKING_WINDOW                     int64  \n",
      " 23  Cumulative_Advance_Purchase_Ratio  float64\n",
      "dtypes: float64(7), int64(17)\n",
      "memory usage: 429.1 MB\n"
     ]
    }
   ],
   "source": [
    "df_numeric.info()"
   ]
  },
  {
   "cell_type": "code",
   "execution_count": 50,
   "id": "14f7a48a-890c-4307-b227-62a2779eb18d",
   "metadata": {},
   "outputs": [
    {
     "data": {
      "text/plain": [
       "BOOKING_WINDOW\n",
       "2    1291734\n",
       "0     428082\n",
       "3     249040\n",
       "1     212277\n",
       "4      68424\n",
       "Name: count, dtype: int64"
      ]
     },
     "execution_count": 50,
     "metadata": {},
     "output_type": "execute_result"
    }
   ],
   "source": [
    "df_numeric['BOOKING_WINDOW'].value_counts() # the result of ordinal encode: assign numbers"
   ]
  },
  {
   "cell_type": "code",
   "execution_count": 51,
   "id": "b4899a4b-ec2a-433f-bd80-97828a68c94b",
   "metadata": {},
   "outputs": [
    {
     "data": {
      "text/plain": [
       "Distance_Bin\n",
       "7    447133\n",
       "1    393545\n",
       "6    331761\n",
       "4    278829\n",
       "5    271846\n",
       "2    251169\n",
       "3    228789\n",
       "0     46485\n",
       "Name: count, dtype: int64"
      ]
     },
     "execution_count": 51,
     "metadata": {},
     "output_type": "execute_result"
    }
   ],
   "source": [
    "df_numeric['Distance_Bin'].value_counts()"
   ]
  },
  {
   "cell_type": "code",
   "execution_count": 52,
   "id": "4427a01d-398d-411c-b4ee-afda50e86923",
   "metadata": {},
   "outputs": [
    {
     "data": {
      "text/plain": [
       "ORIGIN\n",
       "55     194735\n",
       "150    193628\n",
       "126    112497\n",
       "143    106923\n",
       "25      84804\n",
       "        ...  \n",
       "26        117\n",
       "187       105\n",
       "48         70\n",
       "116        31\n",
       "145         5\n",
       "Name: count, Length: 205, dtype: int64"
      ]
     },
     "execution_count": 52,
     "metadata": {},
     "output_type": "execute_result"
    }
   ],
   "source": [
    "df_numeric['ORIGIN'].value_counts() #DEST, OD"
   ]
  },
  {
   "cell_type": "code",
   "execution_count": 53,
   "id": "67d2029e-43a6-4735-ace5-a19a089d2952",
   "metadata": {
    "scrolled": true
   },
   "outputs": [
    {
     "name": "stderr",
     "output_type": "stream",
     "text": [
      "/var/folders/jj/3_60j1tx1ys_rfzl_xtzxnnm0000gp/T/ipykernel_6889/431004941.py:13: SettingWithCopyWarning: \n",
      "A value is trying to be set on a copy of a slice from a DataFrame.\n",
      "Try using .loc[row_indexer,col_indexer] = value instead\n",
      "\n",
      "See the caveats in the documentation: https://pandas.pydata.org/pandas-docs/stable/user_guide/indexing.html#returning-a-view-versus-a-copy\n",
      "  df_numeric[numeric_categorical] = scaler.fit_transform(df_numeric[numeric_categorical])\n"
     ]
    },
    {
     "data": {
      "text/html": [
       "<div>\n",
       "<style scoped>\n",
       "    .dataframe tbody tr th:only-of-type {\n",
       "        vertical-align: middle;\n",
       "    }\n",
       "\n",
       "    .dataframe tbody tr th {\n",
       "        vertical-align: top;\n",
       "    }\n",
       "\n",
       "    .dataframe thead th {\n",
       "        text-align: right;\n",
       "    }\n",
       "</style>\n",
       "<table border=\"1\" class=\"dataframe\">\n",
       "  <thead>\n",
       "    <tr style=\"text-align: right;\">\n",
       "      <th></th>\n",
       "      <th>NUM_IN_PARTY</th>\n",
       "      <th>CHANNEL</th>\n",
       "      <th>ORIGIN</th>\n",
       "      <th>DEST</th>\n",
       "      <th>OD</th>\n",
       "      <th>NUM_SEGMENTS</th>\n",
       "      <th>VFR_PROBABILITY</th>\n",
       "      <th>VACATION_PROBABILITY</th>\n",
       "      <th>PERSONAL_PROBABILITY</th>\n",
       "      <th>ADVANCED_PURCHASE</th>\n",
       "      <th>...</th>\n",
       "      <th>departure_month</th>\n",
       "      <th>TRAVEL_DISTANCE</th>\n",
       "      <th>Holiday_Departure</th>\n",
       "      <th>Holiday_Return</th>\n",
       "      <th>Cumulative_Booking_Count</th>\n",
       "      <th>WEEKEND_DEPARTURE</th>\n",
       "      <th>WEEKEND_ARRIVAL</th>\n",
       "      <th>Distance_Bin</th>\n",
       "      <th>BOOKING_WINDOW</th>\n",
       "      <th>Cumulative_Advance_Purchase_Ratio</th>\n",
       "    </tr>\n",
       "  </thead>\n",
       "  <tbody>\n",
       "    <tr>\n",
       "      <th>0</th>\n",
       "      <td>-0.060420</td>\n",
       "      <td>-0.641693</td>\n",
       "      <td>-1.930227</td>\n",
       "      <td>-1.553345</td>\n",
       "      <td>-1.855205</td>\n",
       "      <td>3.629245</td>\n",
       "      <td>1.121879</td>\n",
       "      <td>-0.623937</td>\n",
       "      <td>-0.103495</td>\n",
       "      <td>-0.822217</td>\n",
       "      <td>...</td>\n",
       "      <td>-1.425953</td>\n",
       "      <td>-1.407243</td>\n",
       "      <td>0</td>\n",
       "      <td>1</td>\n",
       "      <td>-0.580061</td>\n",
       "      <td>1</td>\n",
       "      <td>0.0</td>\n",
       "      <td>0.413825</td>\n",
       "      <td>-1.700107</td>\n",
       "      <td>-0.577062</td>\n",
       "    </tr>\n",
       "    <tr>\n",
       "      <th>1</th>\n",
       "      <td>-0.060420</td>\n",
       "      <td>-0.641693</td>\n",
       "      <td>-1.930227</td>\n",
       "      <td>-1.553345</td>\n",
       "      <td>-1.855205</td>\n",
       "      <td>-0.275297</td>\n",
       "      <td>1.605440</td>\n",
       "      <td>-0.917957</td>\n",
       "      <td>-0.541312</td>\n",
       "      <td>-0.822217</td>\n",
       "      <td>...</td>\n",
       "      <td>-1.425953</td>\n",
       "      <td>-1.407243</td>\n",
       "      <td>0</td>\n",
       "      <td>0</td>\n",
       "      <td>-0.561664</td>\n",
       "      <td>1</td>\n",
       "      <td>0.0</td>\n",
       "      <td>0.413825</td>\n",
       "      <td>-1.700107</td>\n",
       "      <td>-0.558680</td>\n",
       "    </tr>\n",
       "    <tr>\n",
       "      <th>2</th>\n",
       "      <td>-0.746804</td>\n",
       "      <td>-0.641693</td>\n",
       "      <td>-1.930227</td>\n",
       "      <td>-1.553345</td>\n",
       "      <td>-1.855205</td>\n",
       "      <td>-0.275297</td>\n",
       "      <td>0.257606</td>\n",
       "      <td>-0.857469</td>\n",
       "      <td>1.567282</td>\n",
       "      <td>-0.841602</td>\n",
       "      <td>...</td>\n",
       "      <td>-1.425953</td>\n",
       "      <td>-1.407243</td>\n",
       "      <td>1</td>\n",
       "      <td>0</td>\n",
       "      <td>-0.580061</td>\n",
       "      <td>1</td>\n",
       "      <td>0.0</td>\n",
       "      <td>0.413825</td>\n",
       "      <td>-1.700107</td>\n",
       "      <td>-0.575530</td>\n",
       "    </tr>\n",
       "    <tr>\n",
       "      <th>3</th>\n",
       "      <td>-0.060420</td>\n",
       "      <td>-0.641693</td>\n",
       "      <td>-1.930227</td>\n",
       "      <td>-1.553345</td>\n",
       "      <td>-1.855205</td>\n",
       "      <td>-0.275297</td>\n",
       "      <td>0.438671</td>\n",
       "      <td>-0.474247</td>\n",
       "      <td>-0.149838</td>\n",
       "      <td>-0.860987</td>\n",
       "      <td>...</td>\n",
       "      <td>-1.425953</td>\n",
       "      <td>-1.407243</td>\n",
       "      <td>1</td>\n",
       "      <td>0</td>\n",
       "      <td>-0.561664</td>\n",
       "      <td>1</td>\n",
       "      <td>0.0</td>\n",
       "      <td>0.413825</td>\n",
       "      <td>-1.700107</td>\n",
       "      <td>-0.554085</td>\n",
       "    </tr>\n",
       "    <tr>\n",
       "      <th>4</th>\n",
       "      <td>-0.060420</td>\n",
       "      <td>-0.641693</td>\n",
       "      <td>-1.930227</td>\n",
       "      <td>-1.553345</td>\n",
       "      <td>-1.855205</td>\n",
       "      <td>-0.275297</td>\n",
       "      <td>-0.070818</td>\n",
       "      <td>-0.887713</td>\n",
       "      <td>1.990464</td>\n",
       "      <td>-0.841602</td>\n",
       "      <td>...</td>\n",
       "      <td>-1.425953</td>\n",
       "      <td>-1.407243</td>\n",
       "      <td>1</td>\n",
       "      <td>0</td>\n",
       "      <td>-0.580061</td>\n",
       "      <td>1</td>\n",
       "      <td>0.0</td>\n",
       "      <td>0.413825</td>\n",
       "      <td>-1.700107</td>\n",
       "      <td>-0.575530</td>\n",
       "    </tr>\n",
       "  </tbody>\n",
       "</table>\n",
       "<p>5 rows × 24 columns</p>\n",
       "</div>"
      ],
      "text/plain": [
       "   NUM_IN_PARTY   CHANNEL    ORIGIN      DEST        OD  NUM_SEGMENTS  \\\n",
       "0     -0.060420 -0.641693 -1.930227 -1.553345 -1.855205      3.629245   \n",
       "1     -0.060420 -0.641693 -1.930227 -1.553345 -1.855205     -0.275297   \n",
       "2     -0.746804 -0.641693 -1.930227 -1.553345 -1.855205     -0.275297   \n",
       "3     -0.060420 -0.641693 -1.930227 -1.553345 -1.855205     -0.275297   \n",
       "4     -0.060420 -0.641693 -1.930227 -1.553345 -1.855205     -0.275297   \n",
       "\n",
       "   VFR_PROBABILITY  VACATION_PROBABILITY  PERSONAL_PROBABILITY  \\\n",
       "0         1.121879             -0.623937             -0.103495   \n",
       "1         1.605440             -0.917957             -0.541312   \n",
       "2         0.257606             -0.857469              1.567282   \n",
       "3         0.438671             -0.474247             -0.149838   \n",
       "4        -0.070818             -0.887713              1.990464   \n",
       "\n",
       "   ADVANCED_PURCHASE  ...  departure_month  TRAVEL_DISTANCE  \\\n",
       "0          -0.822217  ...        -1.425953        -1.407243   \n",
       "1          -0.822217  ...        -1.425953        -1.407243   \n",
       "2          -0.841602  ...        -1.425953        -1.407243   \n",
       "3          -0.860987  ...        -1.425953        -1.407243   \n",
       "4          -0.841602  ...        -1.425953        -1.407243   \n",
       "\n",
       "   Holiday_Departure  Holiday_Return  Cumulative_Booking_Count  \\\n",
       "0                  0               1                 -0.580061   \n",
       "1                  0               0                 -0.561664   \n",
       "2                  1               0                 -0.580061   \n",
       "3                  1               0                 -0.561664   \n",
       "4                  1               0                 -0.580061   \n",
       "\n",
       "   WEEKEND_DEPARTURE  WEEKEND_ARRIVAL  Distance_Bin  BOOKING_WINDOW  \\\n",
       "0                  1              0.0      0.413825       -1.700107   \n",
       "1                  1              0.0      0.413825       -1.700107   \n",
       "2                  1              0.0      0.413825       -1.700107   \n",
       "3                  1              0.0      0.413825       -1.700107   \n",
       "4                  1              0.0      0.413825       -1.700107   \n",
       "\n",
       "   Cumulative_Advance_Purchase_Ratio  \n",
       "0                          -0.577062  \n",
       "1                          -0.558680  \n",
       "2                          -0.575530  \n",
       "3                          -0.554085  \n",
       "4                          -0.575530  \n",
       "\n",
       "[5 rows x 24 columns]"
      ]
     },
     "execution_count": 53,
     "metadata": {},
     "output_type": "execute_result"
    }
   ],
   "source": [
    "#Scale the feature\n",
    "\n",
    "# List of numerical and categorical columns to standardize\n",
    "numeric_categorical = ['NUM_IN_PARTY','CHANNEL', 'ORIGIN', 'DEST', 'OD', 'NUM_SEGMENTS', 'VFR_PROBABILITY',\n",
    "                 'VACATION_PROBABILITY', 'PERSONAL_PROBABILITY', 'ADVANCED_PURCHASE', \n",
    "                 'REVENUE_PER_PERSON','TRAVEL_TYPE', 'departure_month', 'TRAVEL_DISTANCE',\n",
    "                 'Cumulative_Booking_Count', 'Distance_Bin', 'BOOKING_WINDOW',\n",
    "                 'Cumulative_Advance_Purchase_Ratio']\n",
    "\n",
    "\n",
    "# Standardize numerical and categorical data\n",
    "scaler = StandardScaler()\n",
    "df_numeric[numeric_categorical] = scaler.fit_transform(df_numeric[numeric_categorical])\n",
    "\n",
    "df_numeric.head()"
   ]
  },
  {
   "cell_type": "code",
   "execution_count": 54,
   "id": "0f2626ad-8d4b-49c9-a440-af3634e3863c",
   "metadata": {},
   "outputs": [
    {
     "data": {
      "text/plain": [
       "(2249557, 24)"
      ]
     },
     "execution_count": 54,
     "metadata": {},
     "output_type": "execute_result"
    }
   ],
   "source": [
    "df_numeric.shape"
   ]
  },
  {
   "cell_type": "code",
   "execution_count": 55,
   "id": "4b70a9ca-eb71-4d9a-b91d-739dd4729589",
   "metadata": {},
   "outputs": [
    {
     "data": {
      "text/plain": [
       "NUM_IN_PARTY                         0\n",
       "CHANNEL                              0\n",
       "ORIGIN                               0\n",
       "DEST                                 0\n",
       "OD                                   0\n",
       "NUM_SEGMENTS                         0\n",
       "VFR_PROBABILITY                      0\n",
       "VACATION_PROBABILITY                 0\n",
       "PERSONAL_PROBABILITY                 0\n",
       "ADVANCED_PURCHASE                    0\n",
       "ROUNDTRIP                            0\n",
       "NONSTOP                              0\n",
       "REVENUE_PER_PERSON                   0\n",
       "TRAVEL_TYPE                          0\n",
       "departure_month                      0\n",
       "TRAVEL_DISTANCE                      0\n",
       "Holiday_Departure                    0\n",
       "Holiday_Return                       0\n",
       "Cumulative_Booking_Count             0\n",
       "WEEKEND_DEPARTURE                    0\n",
       "WEEKEND_ARRIVAL                      0\n",
       "Distance_Bin                         0\n",
       "BOOKING_WINDOW                       0\n",
       "Cumulative_Advance_Purchase_Ratio    0\n",
       "dtype: int64"
      ]
     },
     "execution_count": 55,
     "metadata": {},
     "output_type": "execute_result"
    }
   ],
   "source": [
    "# Check for na value\n",
    "(df_numeric.isna()).sum()"
   ]
  },
  {
   "cell_type": "code",
   "execution_count": 56,
   "id": "6c0514ac-b965-472f-9b72-3730edb7b69d",
   "metadata": {},
   "outputs": [],
   "source": [
    "# Error in model1.fit(X_train, y_train) => has nan error\n",
    "# Check for missing values in each column\n",
    "#missing_values = X.isna().sum()\n",
    "#print(missing_values[missing_values > 0])\n"
   ]
  },
  {
   "cell_type": "markdown",
   "id": "c2f5dd9a-246c-4d1e-952b-01558aa04a38",
   "metadata": {},
   "source": [
    "## Define Features & Target Variables"
   ]
  },
  {
   "cell_type": "code",
   "execution_count": 57,
   "id": "8c34fd7b-df16-4667-ad14-92a2db178859",
   "metadata": {},
   "outputs": [],
   "source": [
    "# Create a proxy target: to find important features for determining REVENUE_PER_PERSON => use that as target\n",
    "\n",
    "# Define features and target\n",
    "\n",
    "X = df_numeric.drop(columns=['REVENUE_PER_PERSON'])  # Features\n",
    "y = df_numeric['REVENUE_PER_PERSON']  # Target"
   ]
  },
  {
   "cell_type": "markdown",
   "id": "ed6b7b1f-ef1f-41e6-8b1d-e09cf978ec85",
   "metadata": {},
   "source": [
    "## Split Train & Test Data"
   ]
  },
  {
   "cell_type": "code",
   "execution_count": 58,
   "id": "ce0451d2-aa5f-48aa-be35-6f59ba296068",
   "metadata": {},
   "outputs": [],
   "source": [
    "X_train, X_test, y_train, y_test = train_test_split(X, y, test_size=0.25, random_state=42)"
   ]
  },
  {
   "cell_type": "markdown",
   "id": "127a68b2-66c4-4b2d-bc83-7073a10c0161",
   "metadata": {},
   "source": [
    "## Model: Random Forest Regressor (Target variable is continuous variable)"
   ]
  },
  {
   "cell_type": "code",
   "execution_count": 59,
   "id": "c029b5d1-10ce-4444-a7b4-2954c5817701",
   "metadata": {},
   "outputs": [],
   "source": [
    "model1 = RandomForestRegressor(n_estimators=100, random_state=42)"
   ]
  },
  {
   "cell_type": "markdown",
   "id": "cbe97bcb-54b2-4d67-bfd6-d23b6a65ce0d",
   "metadata": {},
   "source": [
    "## Train Model1"
   ]
  },
  {
   "cell_type": "code",
   "execution_count": 60,
   "id": "05512970-6aba-4093-84b7-115fc6d05111",
   "metadata": {},
   "outputs": [
    {
     "data": {
      "text/html": [
       "<style>#sk-container-id-1 {color: black;background-color: white;}#sk-container-id-1 pre{padding: 0;}#sk-container-id-1 div.sk-toggleable {background-color: white;}#sk-container-id-1 label.sk-toggleable__label {cursor: pointer;display: block;width: 100%;margin-bottom: 0;padding: 0.3em;box-sizing: border-box;text-align: center;}#sk-container-id-1 label.sk-toggleable__label-arrow:before {content: \"▸\";float: left;margin-right: 0.25em;color: #696969;}#sk-container-id-1 label.sk-toggleable__label-arrow:hover:before {color: black;}#sk-container-id-1 div.sk-estimator:hover label.sk-toggleable__label-arrow:before {color: black;}#sk-container-id-1 div.sk-toggleable__content {max-height: 0;max-width: 0;overflow: hidden;text-align: left;background-color: #f0f8ff;}#sk-container-id-1 div.sk-toggleable__content pre {margin: 0.2em;color: black;border-radius: 0.25em;background-color: #f0f8ff;}#sk-container-id-1 input.sk-toggleable__control:checked~div.sk-toggleable__content {max-height: 200px;max-width: 100%;overflow: auto;}#sk-container-id-1 input.sk-toggleable__control:checked~label.sk-toggleable__label-arrow:before {content: \"▾\";}#sk-container-id-1 div.sk-estimator input.sk-toggleable__control:checked~label.sk-toggleable__label {background-color: #d4ebff;}#sk-container-id-1 div.sk-label input.sk-toggleable__control:checked~label.sk-toggleable__label {background-color: #d4ebff;}#sk-container-id-1 input.sk-hidden--visually {border: 0;clip: rect(1px 1px 1px 1px);clip: rect(1px, 1px, 1px, 1px);height: 1px;margin: -1px;overflow: hidden;padding: 0;position: absolute;width: 1px;}#sk-container-id-1 div.sk-estimator {font-family: monospace;background-color: #f0f8ff;border: 1px dotted black;border-radius: 0.25em;box-sizing: border-box;margin-bottom: 0.5em;}#sk-container-id-1 div.sk-estimator:hover {background-color: #d4ebff;}#sk-container-id-1 div.sk-parallel-item::after {content: \"\";width: 100%;border-bottom: 1px solid gray;flex-grow: 1;}#sk-container-id-1 div.sk-label:hover label.sk-toggleable__label {background-color: #d4ebff;}#sk-container-id-1 div.sk-serial::before {content: \"\";position: absolute;border-left: 1px solid gray;box-sizing: border-box;top: 0;bottom: 0;left: 50%;z-index: 0;}#sk-container-id-1 div.sk-serial {display: flex;flex-direction: column;align-items: center;background-color: white;padding-right: 0.2em;padding-left: 0.2em;position: relative;}#sk-container-id-1 div.sk-item {position: relative;z-index: 1;}#sk-container-id-1 div.sk-parallel {display: flex;align-items: stretch;justify-content: center;background-color: white;position: relative;}#sk-container-id-1 div.sk-item::before, #sk-container-id-1 div.sk-parallel-item::before {content: \"\";position: absolute;border-left: 1px solid gray;box-sizing: border-box;top: 0;bottom: 0;left: 50%;z-index: -1;}#sk-container-id-1 div.sk-parallel-item {display: flex;flex-direction: column;z-index: 1;position: relative;background-color: white;}#sk-container-id-1 div.sk-parallel-item:first-child::after {align-self: flex-end;width: 50%;}#sk-container-id-1 div.sk-parallel-item:last-child::after {align-self: flex-start;width: 50%;}#sk-container-id-1 div.sk-parallel-item:only-child::after {width: 0;}#sk-container-id-1 div.sk-dashed-wrapped {border: 1px dashed gray;margin: 0 0.4em 0.5em 0.4em;box-sizing: border-box;padding-bottom: 0.4em;background-color: white;}#sk-container-id-1 div.sk-label label {font-family: monospace;font-weight: bold;display: inline-block;line-height: 1.2em;}#sk-container-id-1 div.sk-label-container {text-align: center;}#sk-container-id-1 div.sk-container {/* jupyter's `normalize.less` sets `[hidden] { display: none; }` but bootstrap.min.css set `[hidden] { display: none !important; }` so we also need the `!important` here to be able to override the default hidden behavior on the sphinx rendered scikit-learn.org. See: https://github.com/scikit-learn/scikit-learn/issues/21755 */display: inline-block !important;position: relative;}#sk-container-id-1 div.sk-text-repr-fallback {display: none;}</style><div id=\"sk-container-id-1\" class=\"sk-top-container\"><div class=\"sk-text-repr-fallback\"><pre>RandomForestRegressor(random_state=42)</pre><b>In a Jupyter environment, please rerun this cell to show the HTML representation or trust the notebook. <br />On GitHub, the HTML representation is unable to render, please try loading this page with nbviewer.org.</b></div><div class=\"sk-container\" hidden><div class=\"sk-item\"><div class=\"sk-estimator sk-toggleable\"><input class=\"sk-toggleable__control sk-hidden--visually\" id=\"sk-estimator-id-1\" type=\"checkbox\" checked><label for=\"sk-estimator-id-1\" class=\"sk-toggleable__label sk-toggleable__label-arrow\">RandomForestRegressor</label><div class=\"sk-toggleable__content\"><pre>RandomForestRegressor(random_state=42)</pre></div></div></div></div></div>"
      ],
      "text/plain": [
       "RandomForestRegressor(random_state=42)"
      ]
     },
     "execution_count": 60,
     "metadata": {},
     "output_type": "execute_result"
    }
   ],
   "source": [
    "model1.fit(X_train, y_train)"
   ]
  },
  {
   "cell_type": "markdown",
   "id": "607ec5f7-5ab6-46cb-9b22-8f04ea01cde6",
   "metadata": {},
   "source": [
    "## Get Variable Importance"
   ]
  },
  {
   "cell_type": "code",
   "execution_count": 61,
   "id": "41d0cfec-15a0-40a8-891f-e7691acc0694",
   "metadata": {},
   "outputs": [
    {
     "name": "stdout",
     "output_type": "stream",
     "text": [
      "                              Feature  Importance\n",
      "22  Cumulative_Advance_Purchase_Ratio    0.144423\n",
      "14                    TRAVEL_DISTANCE    0.118977\n",
      "6                     VFR_PROBABILITY    0.118775\n",
      "7                VACATION_PROBABILITY    0.109239\n",
      "8                PERSONAL_PROBABILITY    0.108125\n",
      "9                   ADVANCED_PURCHASE    0.097474\n",
      "17           Cumulative_Booking_Count    0.063410\n",
      "13                    departure_month    0.039795\n",
      "3                                DEST    0.038533\n",
      "0                        NUM_IN_PARTY    0.035959\n",
      "4                                  OD    0.032172\n",
      "1                             CHANNEL    0.028599\n",
      "2                              ORIGIN    0.017440\n",
      "18                  WEEKEND_DEPARTURE    0.013086\n",
      "15                  Holiday_Departure    0.010545\n",
      "21                     BOOKING_WINDOW    0.008078\n",
      "20                       Distance_Bin    0.003867\n",
      "12                        TRAVEL_TYPE    0.002523\n",
      "19                    WEEKEND_ARRIVAL    0.002256\n",
      "11                            NONSTOP    0.002219\n",
      "10                          ROUNDTRIP    0.001688\n",
      "5                        NUM_SEGMENTS    0.001650\n",
      "16                     Holiday_Return    0.001168\n"
     ]
    }
   ],
   "source": [
    "# Get feature importances\n",
    "importances = model1.feature_importances_\n",
    "\n",
    "# Create a dataFrame to visualize\n",
    "feature_importances = pd.DataFrame({\n",
    "    'Feature': X.columns,\n",
    "    'Importance': importances\n",
    "})\n",
    "\n",
    "# Sort by importance\n",
    "feature_importances = feature_importances.sort_values(by='Importance', ascending=False)\n",
    "print(feature_importances)\n"
   ]
  },
  {
   "cell_type": "markdown",
   "id": "d37f3a9b-f921-4648-ab65-8f9deb43bb81",
   "metadata": {},
   "source": [
    "## Visualize Variable Importance"
   ]
  },
  {
   "cell_type": "code",
   "execution_count": 62,
   "id": "5f150909-734b-499e-a636-9b0b439dd4a7",
   "metadata": {},
   "outputs": [],
   "source": [
    "#Color palette\n",
    "\n",
    "primary_colors = ['#36495A', '#9DA6AB' ,'#0078D2'] \n",
    "cmap = mcolors.LinearSegmentedColormap.from_list('AA_Gradient', primary_colors, N=256)\n",
    "num_colors = 20\n",
    "extended_palette = [cmap(i / (num_colors - 1)) for i in range(num_colors)] "
   ]
  },
  {
   "cell_type": "code",
   "execution_count": 63,
   "id": "fd945f2b-4884-44b3-95da-33cfea7a101f",
   "metadata": {},
   "outputs": [
    {
     "data": {
      "image/png": "[encoded data removed]",
      "text/plain": [
       "<Figure size 1000x600 with 1 Axes>"
      ]
     },
     "metadata": {},
     "output_type": "display_data"
    }
   ],
   "source": [
    "# Visualize ranking\n",
    "\n",
    "plt.figure(figsize=(10, 6))\n",
    "sns.barplot(x='Importance', y='Feature', data=feature_importances, palette=extended_palette)\n",
    "plt.title('Variable Importance')\n",
    "plt.show()\n"
   ]
  },
  {
   "cell_type": "code",
   "execution_count": null,
   "id": "6d2a1d43-8898-4be7-8dc7-81cc325dc229",
   "metadata": {},
   "outputs": [],
   "source": []
  }
 ],
 "metadata": {
  "kernelspec": {
   "display_name": "Python 3 (ipykernel)",
   "language": "python",
   "name": "python3"
  },
  "language_info": {
   "codemirror_mode": {
    "name": "ipython",
    "version": 3
   },
   "file_extension": ".py",
   "mimetype": "text/x-python",
   "name": "python",
   "nbconvert_exporter": "python",
   "pygments_lexer": "ipython3",
   "version": "3.11.5"
  }
 },
 "nbformat": 4,
 "nbformat_minor": 5
}
